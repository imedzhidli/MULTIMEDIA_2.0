{
  "cells": [
    {
      "cell_type": "markdown",
      "metadata": {
        "_cell_guid": "b1076dfc-b9ad-4769-8c92-a6c4dae69d19",
        "_uuid": "8f2839f25d086af736a60e9eeb907d3b93b6e0e5",
        "id": "agpUgJB65d6a"
      },
      "source": [
        "# Лабораторная работа №7 (\"Проведение исследований с моделями семантической сегментации\")"
      ]
    },
    {
      "cell_type": "code",
      "execution_count": null,
      "metadata": {
        "execution": {
          "iopub.execute_input": "2025-04-22T22:15:10.062517Z",
          "iopub.status.busy": "2025-04-22T22:15:10.062205Z",
          "iopub.status.idle": "2025-04-22T22:15:11.210655Z",
          "shell.execute_reply": "2025-04-22T22:15:11.209923Z",
          "shell.execute_reply.started": "2025-04-22T22:15:10.062499Z"
        },
        "id": "FMXu4rEb5d6r",
        "outputId": "edd71d47-a1f5-46fc-c80d-0a05b8aea74c",
        "trusted": true
      },
      "outputs": [
        {
          "name": "stderr",
          "output_type": "stream",
          "text": [
            "/usr/local/lib/python3.11/dist-packages/albumentations/__init__.py:28: UserWarning: A new version of Albumentations is available: '2.0.5' (you have '2.0.4'). Upgrade using: pip install -U albumentations. To disable automatic update checks, set the environment variable NO_ALBUMENTATIONS_UPDATE to 1.\n",
            "  check_for_updates()\n"
          ]
        }
      ],
      "source": [
        "import torch\n",
        "import torch.nn\n",
        "import torch.optim\n",
        "import torch.utils.data\n",
        "import datasets\n",
        "import torchvision.transforms\n",
        "import numpy as np\n",
        "import matplotlib.pyplot as plt\n",
        "import segmentation_models_pytorch as smp\n",
        "import torchinfo\n",
        "import albumentations\n",
        "from PIL import Image"
      ]
    },
    {
      "cell_type": "markdown",
      "metadata": {
        "id": "LnXHRwuJ5d6w"
      },
      "source": [
        "## Выбор начальных условий"
      ]
    },
    {
      "cell_type": "markdown",
      "metadata": {
        "id": "0gDYeXye5d6x"
      },
      "source": [
        "Для решения задачи семантической сегментации на основе визуальных данных я выбрал датасет из прошлой лабораторной — [`Nfiniteai/product-masks-sample`](https://huggingface.co/datasets/Nfiniteai/product-masks-sample). Данный датасет включает изображения, созданные на основе 3D-моделей предметов домашнего интерьера (мебель, элементы декора и т.д.). Благодаря фотореалистичной визуализации он подходит для обучения моделей, требующих работы с реалистичными сценами.\n",
        "\n",
        "В контексте семантической сегментации набор может быть полезен для автоматизации инвентаризации — например, для разработки системы, которая распознаёт объекты через камеру в реальном времени и фиксирует их наличие/местоположение.\n",
        "Загрузим датасет и выведем примеры изображений с метками."
      ]
    },
    {
      "cell_type": "code",
      "execution_count": null,
      "metadata": {
        "colab": {
          "referenced_widgets": [
            "c105dac3fb7847fbad44160d0ca6e233",
            "fd9e9af480074b0d89fc564ff103072f",
            "57fa60ab0a0943ddb4243e60fbe9bec1",
            "af13019eba014dafae7637a4acae39c7",
            "6b2f4f2a07ec415f8cf1791c04257162",
            "47e573f6146647a3932b611f13c9d4f8",
            "ae3d0a1158bc4657b979eb766a87586e",
            "76329df8d8db4139be292cf41bc46094",
            "ca6ed84428624159bc9df2b3e4c0c8a6",
            "8dd1264fe86c46dab8811d345e12ab8b",
            "be1ad287f427485b937412b0842f8d47",
            "a091bd1b8c1b4742a8ddea3b4a8f9d4a",
            "fa5bb43912a447b7ab067c15fc6a8a3f",
            "ed0c177032cb4599a08099b222862722",
            "fc2b39f009a1456aa622897a7c0a32ce",
            "7b442772a2cf428bab65bfeddbb5577f",
            "d4ab3eb398ba4dd290a1e2411993ad1e",
            "0523789051d940489a2a934dac52c53e"
          ]
        },
        "execution": {
          "iopub.execute_input": "2025-04-22T21:45:55.314361Z",
          "iopub.status.busy": "2025-04-22T21:45:55.313819Z",
          "iopub.status.idle": "2025-04-22T21:46:53.399580Z",
          "shell.execute_reply": "2025-04-22T21:46:53.398788Z",
          "shell.execute_reply.started": "2025-04-22T21:45:55.314335Z"
        },
        "id": "TvkYh3Ms5d6z",
        "outputId": "e2f38566-40b8-48b9-b662-2034ce4a3323",
        "trusted": true
      },
      "outputs": [
        {
          "data": {
            "application/vnd.jupyter.widget-view+json": {
              "model_id": "c105dac3fb7847fbad44160d0ca6e233",
              "version_major": 2,
              "version_minor": 0
            },
            "text/plain": [
              "README.md:   0%|          | 0.00/3.54k [00:00<?, ?B/s]"
            ]
          },
          "metadata": {},
          "output_type": "display_data"
        },
        {
          "data": {
            "application/vnd.jupyter.widget-view+json": {
              "model_id": "fd9e9af480074b0d89fc564ff103072f",
              "version_major": 2,
              "version_minor": 0
            },
            "text/plain": [
              "train-00000-of-00014.parquet:   0%|          | 0.00/345M [00:00<?, ?B/s]"
            ]
          },
          "metadata": {},
          "output_type": "display_data"
        },
        {
          "data": {
            "application/vnd.jupyter.widget-view+json": {
              "model_id": "57fa60ab0a0943ddb4243e60fbe9bec1",
              "version_major": 2,
              "version_minor": 0
            },
            "text/plain": [
              "train-00001-of-00014.parquet:   0%|          | 0.00/251M [00:00<?, ?B/s]"
            ]
          },
          "metadata": {},
          "output_type": "display_data"
        },
        {
          "data": {
            "application/vnd.jupyter.widget-view+json": {
              "model_id": "af13019eba014dafae7637a4acae39c7",
              "version_major": 2,
              "version_minor": 0
            },
            "text/plain": [
              "train-00002-of-00014.parquet:   0%|          | 0.00/283M [00:00<?, ?B/s]"
            ]
          },
          "metadata": {},
          "output_type": "display_data"
        },
        {
          "data": {
            "application/vnd.jupyter.widget-view+json": {
              "model_id": "6b2f4f2a07ec415f8cf1791c04257162",
              "version_major": 2,
              "version_minor": 0
            },
            "text/plain": [
              "train-00003-of-00014.parquet:   0%|          | 0.00/305M [00:00<?, ?B/s]"
            ]
          },
          "metadata": {},
          "output_type": "display_data"
        },
        {
          "data": {
            "application/vnd.jupyter.widget-view+json": {
              "model_id": "47e573f6146647a3932b611f13c9d4f8",
              "version_major": 2,
              "version_minor": 0
            },
            "text/plain": [
              "train-00004-of-00014.parquet:   0%|          | 0.00/298M [00:00<?, ?B/s]"
            ]
          },
          "metadata": {},
          "output_type": "display_data"
        },
        {
          "data": {
            "application/vnd.jupyter.widget-view+json": {
              "model_id": "ae3d0a1158bc4657b979eb766a87586e",
              "version_major": 2,
              "version_minor": 0
            },
            "text/plain": [
              "train-00005-of-00014.parquet:   0%|          | 0.00/223M [00:00<?, ?B/s]"
            ]
          },
          "metadata": {},
          "output_type": "display_data"
        },
        {
          "data": {
            "application/vnd.jupyter.widget-view+json": {
              "model_id": "76329df8d8db4139be292cf41bc46094",
              "version_major": 2,
              "version_minor": 0
            },
            "text/plain": [
              "train-00006-of-00014.parquet:   0%|          | 0.00/214M [00:00<?, ?B/s]"
            ]
          },
          "metadata": {},
          "output_type": "display_data"
        },
        {
          "data": {
            "application/vnd.jupyter.widget-view+json": {
              "model_id": "ca6ed84428624159bc9df2b3e4c0c8a6",
              "version_major": 2,
              "version_minor": 0
            },
            "text/plain": [
              "train-00007-of-00014.parquet:   0%|          | 0.00/253M [00:00<?, ?B/s]"
            ]
          },
          "metadata": {},
          "output_type": "display_data"
        },
        {
          "data": {
            "application/vnd.jupyter.widget-view+json": {
              "model_id": "8dd1264fe86c46dab8811d345e12ab8b",
              "version_major": 2,
              "version_minor": 0
            },
            "text/plain": [
              "train-00008-of-00014.parquet:   0%|          | 0.00/265M [00:00<?, ?B/s]"
            ]
          },
          "metadata": {},
          "output_type": "display_data"
        },
        {
          "data": {
            "application/vnd.jupyter.widget-view+json": {
              "model_id": "be1ad287f427485b937412b0842f8d47",
              "version_major": 2,
              "version_minor": 0
            },
            "text/plain": [
              "train-00009-of-00014.parquet:   0%|          | 0.00/275M [00:00<?, ?B/s]"
            ]
          },
          "metadata": {},
          "output_type": "display_data"
        },
        {
          "data": {
            "application/vnd.jupyter.widget-view+json": {
              "model_id": "a091bd1b8c1b4742a8ddea3b4a8f9d4a",
              "version_major": 2,
              "version_minor": 0
            },
            "text/plain": [
              "train-00010-of-00014.parquet:   0%|          | 0.00/213M [00:00<?, ?B/s]"
            ]
          },
          "metadata": {},
          "output_type": "display_data"
        },
        {
          "data": {
            "application/vnd.jupyter.widget-view+json": {
              "model_id": "fa5bb43912a447b7ab067c15fc6a8a3f",
              "version_major": 2,
              "version_minor": 0
            },
            "text/plain": [
              "train-00011-of-00014.parquet:   0%|          | 0.00/269M [00:00<?, ?B/s]"
            ]
          },
          "metadata": {},
          "output_type": "display_data"
        },
        {
          "data": {
            "application/vnd.jupyter.widget-view+json": {
              "model_id": "ed0c177032cb4599a08099b222862722",
              "version_major": 2,
              "version_minor": 0
            },
            "text/plain": [
              "train-00012-of-00014.parquet:   0%|          | 0.00/233M [00:00<?, ?B/s]"
            ]
          },
          "metadata": {},
          "output_type": "display_data"
        },
        {
          "data": {
            "application/vnd.jupyter.widget-view+json": {
              "model_id": "fc2b39f009a1456aa622897a7c0a32ce",
              "version_major": 2,
              "version_minor": 0
            },
            "text/plain": [
              "train-00013-of-00014.parquet:   0%|          | 0.00/198M [00:00<?, ?B/s]"
            ]
          },
          "metadata": {},
          "output_type": "display_data"
        },
        {
          "data": {
            "application/vnd.jupyter.widget-view+json": {
              "model_id": "7b442772a2cf428bab65bfeddbb5577f",
              "version_major": 2,
              "version_minor": 0
            },
            "text/plain": [
              "val-00000-of-00001.parquet:   0%|          | 0.00/222M [00:00<?, ?B/s]"
            ]
          },
          "metadata": {},
          "output_type": "display_data"
        },
        {
          "data": {
            "application/vnd.jupyter.widget-view+json": {
              "model_id": "d4ab3eb398ba4dd290a1e2411993ad1e",
              "version_major": 2,
              "version_minor": 0
            },
            "text/plain": [
              "Generating train split:   0%|          | 0/2559 [00:00<?, ? examples/s]"
            ]
          },
          "metadata": {},
          "output_type": "display_data"
        },
        {
          "data": {
            "application/vnd.jupyter.widget-view+json": {
              "model_id": "0523789051d940489a2a934dac52c53e",
              "version_major": 2,
              "version_minor": 0
            },
            "text/plain": [
              "Generating val split:   0%|          | 0/151 [00:00<?, ? examples/s]"
            ]
          },
          "metadata": {},
          "output_type": "display_data"
        },
        {
          "name": "stdout",
          "output_type": "stream",
          "text": [
            "Train dataset size: 2559\n",
            "Validation dataset size: 151\n",
            "Features:\n",
            "image_id: Value(dtype='string', id=None)\n",
            "image: Image(mode=None, decode=True, id=None)\n",
            "mask: Image(mode=None, decode=True, id=None)\n",
            "category: Value(dtype='string', id=None)\n",
            "bbox: Sequence(feature=Value(dtype='int32', id=None), length=-1, id=None)\n",
            "product_id: Value(dtype='string', id=None)\n",
            "scene_id: Value(dtype='string', id=None)\n"
          ]
        }
      ],
      "source": [
        "dataset = datasets.load_dataset('Nfiniteai/product-masks-sample')\n",
        "\n",
        "print(f\"Train dataset size: {len(dataset['train'])}\")\n",
        "print(f\"Validation dataset size: {len(dataset['val'])}\")\n",
        "\n",
        "print('Features:')\n",
        "for feature_name, feature_type in dataset['train'].features.items():\n",
        "    print(f'{feature_name}: {feature_type}')"
      ]
    },
    {
      "cell_type": "markdown",
      "metadata": {
        "id": "-orWwbXv5d61"
      },
      "source": [
        "### Выбор метрик"
      ]
    },
    {
      "cell_type": "markdown",
      "metadata": {
        "id": "TdGksgQM5d62"
      },
      "source": [
        "При оценке моделей семантической сегментации критически важно подбирать метрики, учитывающие специфику задачи: многоклассовость, пространственное распределение объектов и дисбаланс классов.\n",
        "\n",
        "В качестве ключевой метрики был выбран **IoU** (Intersection over Union). Он вычисляется как отношение площади пересечения предсказанной и истинной областей к площади их объединения для каждого класса. Этот показатель эффективно отражает точность локализации объектов, что особенно важно в задачах сегментации.\n",
        "\n",
        "От использования Accuracy было решено отказаться. В задачах сегментации фон часто занимает большую часть изображения, что приводит к парадоксу: модель может достигать высокой точности, просто помечая всё как фон, при этом игнорируя второстепенные классы. Это делает Accuracy неинформативной для объективной оценки."
      ]
    },
    {
      "cell_type": "markdown",
      "metadata": {
        "id": "8uzb4MYo5d62"
      },
      "source": [
        "## Создание бейзлайна и оценка качества"
      ]
    },
    {
      "cell_type": "markdown",
      "metadata": {
        "id": "HXXHb6U75d62"
      },
      "source": [
        "Аналогично с прошлой лабораторной работой, сделаем минимальное преобразование скачанного датасета, чтобы он был пригоден для обучения модели.\n",
        "\n",
        "Для этого сделаем нормализацию названий классов и уберем из тренировочной выборки записи,  в которых есть не предусмотренные в валидационной выборке классы. И уберем все лишние поля, которые не понадобятся при обучении, чтобы экономить ресурсы."
      ]
    },
    {
      "cell_type": "code",
      "execution_count": null,
      "metadata": {
        "execution": {
          "iopub.execute_input": "2025-04-22T21:47:05.731399Z",
          "iopub.status.busy": "2025-04-22T21:47:05.730225Z",
          "iopub.status.idle": "2025-04-22T21:47:05.736190Z",
          "shell.execute_reply": "2025-04-22T21:47:05.735434Z",
          "shell.execute_reply.started": "2025-04-22T21:47:05.731359Z"
        },
        "id": "V2hdKx2n5d63",
        "trusted": true
      },
      "outputs": [],
      "source": [
        "val_dataset = dataset['val']\n",
        "train_dataset = dataset['train']"
      ]
    },
    {
      "cell_type": "code",
      "execution_count": null,
      "metadata": {
        "colab": {
          "referenced_widgets": [
            "ad0b889c235748d08c446ae76e6190bb",
            "1d30919f304d4e33a1c60f33f0bb91f1"
          ]
        },
        "execution": {
          "iopub.execute_input": "2025-04-22T21:47:08.250616Z",
          "iopub.status.busy": "2025-04-22T21:47:08.250338Z",
          "iopub.status.idle": "2025-04-22T21:47:33.508953Z",
          "shell.execute_reply": "2025-04-22T21:47:33.508291Z",
          "shell.execute_reply.started": "2025-04-22T21:47:08.250597Z"
        },
        "id": "od46xwFe5d64",
        "outputId": "88c3a9c8-5034-4007-d392-62ce67ca6fd1",
        "trusted": true
      },
      "outputs": [
        {
          "data": {
            "application/vnd.jupyter.widget-view+json": {
              "model_id": "ad0b889c235748d08c446ae76e6190bb",
              "version_major": 2,
              "version_minor": 0
            },
            "text/plain": [
              "Map:   0%|          | 0/151 [00:00<?, ? examples/s]"
            ]
          },
          "metadata": {},
          "output_type": "display_data"
        },
        {
          "data": {
            "application/vnd.jupyter.widget-view+json": {
              "model_id": "1d30919f304d4e33a1c60f33f0bb91f1",
              "version_major": 2,
              "version_minor": 0
            },
            "text/plain": [
              "Map:   0%|          | 0/2559 [00:00<?, ? examples/s]"
            ]
          },
          "metadata": {},
          "output_type": "display_data"
        }
      ],
      "source": [
        "def preprocess_category(category):\n",
        "    return category.lower().replace(' ', '_')\n",
        "\n",
        "def preprocess_category_batch(batch):\n",
        "    batch['category'] = [preprocess_category(el) for el in batch['category']]\n",
        "    return batch\n",
        "\n",
        "val_dataset = val_dataset.map(\n",
        "    preprocess_category_batch,\n",
        "    load_from_cache_file=False,\n",
        "    batched=True,\n",
        "    batch_size=300,\n",
        "    writer_batch_size=300,\n",
        ")\n",
        "\n",
        "train_dataset = train_dataset.map(\n",
        "    preprocess_category_batch,\n",
        "    load_from_cache_file=False,\n",
        "    batched=True,\n",
        "    batch_size=300,\n",
        "    writer_batch_size=300,\n",
        ")"
      ]
    },
    {
      "cell_type": "markdown",
      "metadata": {
        "id": "DiDYUfE05d64"
      },
      "source": [
        "Выполним фильтрацию фичей в датасете, оставив только те, которые нам необходимы для обучения модули для решения задачи классификации. После применения изменений останутся только следующие поля:\n",
        "- `image` - данное поле содержит целевое изображение\n",
        "- `category` - данное поле содержит название класса в текстовом формате\n",
        "- `mask` - данное поле содержит маску, которая представляет собой черно-белое изображение, каждый пиксель которого описывает степень его принадлежности к рассматриваемому классу\n",
        "- `bbox` - координаты boundary box, в котором находится целевой объект. Данная информация будет необходима при улучшении бейзлайна."
      ]
    },
    {
      "cell_type": "code",
      "execution_count": null,
      "metadata": {
        "execution": {
          "iopub.execute_input": "2025-04-22T21:47:37.444698Z",
          "iopub.status.busy": "2025-04-22T21:47:37.444135Z",
          "iopub.status.idle": "2025-04-22T21:47:37.453908Z",
          "shell.execute_reply": "2025-04-22T21:47:37.453222Z",
          "shell.execute_reply.started": "2025-04-22T21:47:37.444677Z"
        },
        "id": "eYYBX4KX5d65",
        "outputId": "94e06847-e16d-4e2c-d0ec-c73d37916a52",
        "trusted": true
      },
      "outputs": [
        {
          "data": {
            "text/plain": [
              "{'image': Image(mode=None, decode=True, id=None),\n",
              " 'mask': Image(mode=None, decode=True, id=None),\n",
              " 'category': Value(dtype='string', id=None),\n",
              " 'bbox': Sequence(feature=Value(dtype='int32', id=None), length=-1, id=None)}"
            ]
          },
          "execution_count": 7,
          "metadata": {},
          "output_type": "execute_result"
        }
      ],
      "source": [
        "include_features = {'image', 'bbox', 'category', 'mask'}\n",
        "all_features = set(train_dataset.features)\n",
        "exclude_features = all_features - include_features\n",
        "\n",
        "train_dataset = train_dataset.remove_columns(exclude_features)\n",
        "val_dataset = val_dataset.remove_columns(exclude_features)\n",
        "\n",
        "train_dataset.features"
      ]
    },
    {
      "cell_type": "markdown",
      "metadata": {
        "id": "Q6bISS3b5d65"
      },
      "source": [
        "Теперь, чтобы не обучать модель определять классы, которых нет в валидационной выборке, уберем из тренировочной выборки те записи, которые соответствуют таким классам. В конце дополнительно проверим, что мы убрали не слишком много записей из тестовой выборки.\n",
        "\n",
        "Также, соотнесем с каждым классов уникальный численный идентификатор. Для обозначения фона добавим специальный класс `<BACKGROUND>`."
      ]
    },
    {
      "cell_type": "code",
      "execution_count": null,
      "metadata": {
        "colab": {
          "referenced_widgets": [
            "10ddf22139b94559b017cef942a699fa"
          ]
        },
        "execution": {
          "iopub.execute_input": "2025-04-22T21:47:41.411949Z",
          "iopub.status.busy": "2025-04-22T21:47:41.411646Z",
          "iopub.status.idle": "2025-04-22T21:47:50.200855Z",
          "shell.execute_reply": "2025-04-22T21:47:50.200082Z",
          "shell.execute_reply.started": "2025-04-22T21:47:41.411920Z"
        },
        "id": "JKXw-Gqq5d65",
        "outputId": "6c9b50ee-c071-4808-e84a-3ebef8d16a1e",
        "trusted": true
      },
      "outputs": [
        {
          "data": {
            "application/vnd.jupyter.widget-view+json": {
              "model_id": "10ddf22139b94559b017cef942a699fa",
              "version_major": 2,
              "version_minor": 0
            },
            "text/plain": [
              "Filter:   0%|          | 0/2559 [00:00<?, ? examples/s]"
            ]
          },
          "metadata": {},
          "output_type": "display_data"
        },
        {
          "name": "stdout",
          "output_type": "stream",
          "text": [
            "2063\n"
          ]
        }
      ],
      "source": [
        "categories = set(val_dataset['category'])\n",
        "categories = {category: index for index, category in enumerate(categories)}\n",
        "categories['<BACKGROUND>'] = len(categories)\n",
        "\n",
        "train_dataset = train_dataset.filter(\n",
        "    lambda category: category in categories,\n",
        "    load_from_cache_file=False,\n",
        "    writer_batch_size=300,\n",
        "    input_columns=['category'],\n",
        ")\n",
        "\n",
        "print(len(train_dataset))"
      ]
    },
    {
      "cell_type": "markdown",
      "metadata": {
        "id": "IvlWXVLt5d66"
      },
      "source": [
        "Также для преобразования данных к виду, пригодному для подачи на вход в модель, создадим класс датасета `SegmentationDataset`. Данный датасет на основе переданного исходного датасета возьмет информацию об изображении, классе и маске, предобработает их и вернет значения в формате двойки `(image, mask)`, где `image` - PyTorch тензор размерности $(3 \\times W \\times H)$, описывающий изображение, и `mask` - тензор размерности $(W \\times H)$, содержащий целые числа, играющие роль числовых идентификаторов классов.\n",
        "\n",
        "Класс также поддерживает внедрение пользовательских трансформаций через параметр `transform` в конструкторе класса, что понадобится в будущем для улучшения бейзлайная через аугментацию.\n",
        "\n",
        "Отдельно рассмотрим работу функции `transform_mask`, которая ответственна за предобработку изображения маски к виду, пригодному для использования при обучении модели. Данная функция преобразует входное черно-белое изображение маски к матрице размерности $(W \\times H)$, каждый элемент которой представляет целое число, обозначающее идентификатор класса, которому принадлежит текущий пиксель. Все фоновые пиксели мы помечаем числом, соответствующим классу `<BACKGROUND>`."
      ]
    },
    {
      "cell_type": "code",
      "execution_count": null,
      "metadata": {
        "execution": {
          "iopub.execute_input": "2025-04-22T21:47:55.151247Z",
          "iopub.status.busy": "2025-04-22T21:47:55.150872Z",
          "iopub.status.idle": "2025-04-22T21:47:55.159798Z",
          "shell.execute_reply": "2025-04-22T21:47:55.158863Z",
          "shell.execute_reply.started": "2025-04-22T21:47:55.151220Z"
        },
        "id": "5iTVxLGc5d66",
        "trusted": true
      },
      "outputs": [],
      "source": [
        "transform_image = torchvision.transforms.Compose([\n",
        "    torchvision.transforms.Resize((224, 224)),\n",
        "    torchvision.transforms.ToTensor(),\n",
        "    torchvision.transforms.Normalize(\n",
        "        mean=[0.485, 0.456, 0.406],\n",
        "        std=[0.229, 0.224, 0.225],\n",
        "    ),\n",
        "])\n",
        "\n",
        "\n",
        "def transform_mask(mask, class_index, *, threshold=0.5, classes_amount=1):\n",
        "    mask = mask.resize((224, 224))\n",
        "    mask_np = np.array(mask).astype(np.float32) / 255.0\n",
        "\n",
        "    object_mask = (mask_np >= threshold).astype(int) * class_index\n",
        "    background_mask = (mask_np < threshold).astype(int) * categories['<BACKGROUND>']\n",
        "    total_mask = object_mask + background_mask\n",
        "\n",
        "    return torch.from_numpy(total_mask)\n",
        "\n",
        "\n",
        "class SegmentationDataset(torch.utils.data.Dataset):\n",
        "    def __init__(self, dataset, categories, *, max_len=None, transform=None, threshold=0.5):\n",
        "        self._dataset = dataset\n",
        "        self._categories = categories\n",
        "        self._max_len = float('inf') if max_len is None else max_len\n",
        "        self._threshold = threshold\n",
        "        self._transform = transform or (lambda x, bbox, y: (x, y))\n",
        "\n",
        "    def __len__(self):\n",
        "        return min(len(self._dataset), self._max_len)\n",
        "\n",
        "    def __getitem__(self, idx):\n",
        "        example = self._dataset[idx]\n",
        "        image, mask = example['image'].convert('RGB'), example['mask']\n",
        "        class_index = self._categories[example['category']]\n",
        "        bbox = example['bbox']\n",
        "\n",
        "        image, mask = self._transform(image, bbox, mask)\n",
        "\n",
        "        image = transform_image(image)\n",
        "        mask = transform_mask(\n",
        "            mask,\n",
        "            class_index,\n",
        "            threshold=self._threshold,\n",
        "            classes_amount=len(self._categories),\n",
        "        )\n",
        "\n",
        "        return image, mask"
      ]
    },
    {
      "cell_type": "markdown",
      "metadata": {
        "id": "wIlMfHLj5d67"
      },
      "source": [
        "Перейдем теперь к этапу обучения модели. Для этого создадим вспомогательные функции:\n",
        "- `train_model` - отвечает за процесс обучения модели. Данная функция написана таким образом, чтобы по завершению каждого шага возвращать промежуточные данные, информирующие пользователя о текущем номере шага, эпохи и значении ошибки на текущем этапе обучения;\n",
        "- `eval_model` - отвечает за процесс валидации модели. Данная функция принимает на вход словарь метрик, и на его основе рассчитывает значения целевых метрик на валидационном датасете для обученной модели.\n",
        "\n",
        "Также, для подсчета значения метрик создадим вспомогательную функцию `_calculate_metrics`. Данная функция принимает на вход вероятности, подсчитанные моделью, ожидаемые маски и словарь метрик. Перед тем как подавать на вход значения в функции метрик, функция подсчитывает статистику $TP, FP, FN, TN$, на основе которой и будут подсчитаны метрики. Стоит отметить, что при подсчете статистики игнорируется класс `<BACKGROUND>`. Это необходимо для того, чтобы пир подсчете метрик мы не учитывали пиксели, соответствующие заднему фону, так как он обычно занимает основную часть изображения."
      ]
    },
    {
      "cell_type": "code",
      "execution_count": null,
      "metadata": {},
      "outputs": [],
      "source": [
        "DEVICE = \"cuda\""
      ]
    },
    {
      "cell_type": "code",
      "execution_count": null,
      "metadata": {
        "execution": {
          "iopub.execute_input": "2025-04-22T21:48:01.085279Z",
          "iopub.status.busy": "2025-04-22T21:48:01.084553Z",
          "iopub.status.idle": "2025-04-22T21:48:01.092878Z",
          "shell.execute_reply": "2025-04-22T21:48:01.092281Z",
          "shell.execute_reply.started": "2025-04-22T21:48:01.085257Z"
        },
        "id": "DGv5sbsZ5d67",
        "trusted": true
      },
      "outputs": [],
      "source": [
        "def _calculate_metrics(outputs, masks, metrics):\n",
        "    predicted_classes = outputs.argmax(dim=1)\n",
        "    tp, fp, fn, tn = smp.metrics.get_stats(\n",
        "        predicted_classes, masks,\n",
        "        mode='multiclass',\n",
        "        num_classes=len(categories) - 1,\n",
        "        ignore_index=categories['<BACKGROUND>'],\n",
        "    )\n",
        "\n",
        "    return {\n",
        "        metric_name: metric_function(tp, fp, fn, tn).item()\n",
        "        for metric_name, metric_function in metrics.items()\n",
        "    }\n",
        "\n",
        "\n",
        "def train_model(model, dataset, loss, optimizer, *, num_epochs=1):\n",
        "    model.train()\n",
        "\n",
        "    total_loss = 0.0\n",
        "    total_size = 0\n",
        "\n",
        "    for epoch in range(1, num_epochs + 1):\n",
        "        for step_number, (images, masks) in enumerate(dataset, 1):\n",
        "            images, masks = images.to(DEVICE), masks.to(DEVICE)\n",
        "\n",
        "            optimizer.zero_grad()\n",
        "            outputs = model(images)\n",
        "\n",
        "            loss_value = loss(outputs, masks)\n",
        "            loss_value.backward()\n",
        "            optimizer.step()\n",
        "\n",
        "            batch_size = images.size()[0]\n",
        "            total_loss += loss_value.item() * batch_size\n",
        "            total_size += batch_size\n",
        "\n",
        "            yield {\n",
        "                'epoch': epoch,\n",
        "                'step': step_number,\n",
        "                'loss': total_loss / total_size,\n",
        "            }\n",
        "\n",
        "\n",
        "def eval_model(model, ds, metrics):\n",
        "    model.eval()\n",
        "\n",
        "    all_labels = []\n",
        "    all_preds = []\n",
        "\n",
        "    with torch.no_grad():\n",
        "        for images, masks in ds:\n",
        "            images = images.to(DEVICE)\n",
        "            masks = masks.to(DEVICE)\n",
        "\n",
        "            outputs = model(images)\n",
        "\n",
        "            all_labels.append(masks.cpu())\n",
        "            all_preds.append(outputs.cpu())\n",
        "\n",
        "    all_labels = torch.cat(all_labels, dim=0)\n",
        "    all_preds  = torch.cat(all_preds, dim=0)\n",
        "\n",
        "    return _calculate_metrics(all_preds, all_labels, metrics)"
      ]
    },
    {
      "cell_type": "markdown",
      "metadata": {
        "id": "hlvtulA27h68"
      },
      "source": [
        "Также, для визуальной проверки работоспособности обученной модели напишем функцию `test_model`, которая визуально отображает маску, предсказанную моделью, и ожидаемую маску для класса `category_index`, объект которого находится на целевом изображении."
      ]
    },
    {
      "cell_type": "code",
      "execution_count": null,
      "metadata": {
        "execution": {
          "iopub.execute_input": "2025-04-22T22:10:05.947881Z",
          "iopub.status.busy": "2025-04-22T22:10:05.947578Z",
          "iopub.status.idle": "2025-04-22T22:10:05.956294Z",
          "shell.execute_reply": "2025-04-22T22:10:05.955540Z",
          "shell.execute_reply.started": "2025-04-22T22:10:05.947861Z"
        },
        "id": "ZGn3CPVi5d68",
        "trusted": true
      },
      "outputs": [],
      "source": [
        "def test_model(model, image, mask, category_index):\n",
        "    model.eval()\n",
        "    with torch.no_grad():\n",
        "        C, W, H = image.shape\n",
        "        image = image.resize(1, C, W, H)\n",
        "        image = image.to(DEVICE)\n",
        "        preds = model(image)[0].cpu()\n",
        "\n",
        "    predicted_mask = torch.argmax(preds, dim=0).numpy()\n",
        "    predicted_mask = (predicted_mask == category_index).astype(np.uint8) * 255\n",
        "\n",
        "    predicted_mask_image = Image.fromarray(predicted_mask, mode='L')\n",
        "    mask_image = Image.fromarray((mask.numpy() == category_index).astype(np.uint8) * 255, mode='L')\n",
        "\n",
        "    plt.figure(figsize=(12, 6))\n",
        "\n",
        "    plt.subplot(1, 2, 1)\n",
        "    plt.imshow(mask_image)\n",
        "\n",
        "    plt.subplot(1, 2, 2)\n",
        "    plt.imshow(predicted_mask_image)\n",
        "\n",
        "    plt.show()"
      ]
    },
    {
      "cell_type": "markdown",
      "metadata": {
        "id": "MTNfHJip5d69"
      },
      "source": [
        "Опишем набор метрик, которые мы будем использовать для оценки качества обученной модели. Как и было описано выше, мы будем использовать только метрику IoU, так как она наиболее информативная."
      ]
    },
    {
      "cell_type": "code",
      "execution_count": null,
      "metadata": {
        "execution": {
          "iopub.execute_input": "2025-04-22T21:48:11.248670Z",
          "iopub.status.busy": "2025-04-22T21:48:11.248383Z",
          "iopub.status.idle": "2025-04-22T21:48:11.252833Z",
          "shell.execute_reply": "2025-04-22T21:48:11.252002Z",
          "shell.execute_reply.started": "2025-04-22T21:48:11.248649Z"
        },
        "id": "COPBfpWP5d6-",
        "trusted": true
      },
      "outputs": [],
      "source": [
        "metrics = {\n",
        "    'iou': lambda tp, fp, fn, tn: smp.metrics.iou_score(tp, fp, fn, tn, reduction='micro'),\n",
        "}"
      ]
    },
    {
      "cell_type": "markdown",
      "metadata": {
        "id": "fSr9jdxR5d6_"
      },
      "source": [
        "### Обучение модели CNN"
      ]
    },
    {
      "cell_type": "markdown",
      "metadata": {
        "id": "4A8OQUCp8rx9"
      },
      "source": [
        "Для начала обучим на бейзлайне сверточную нейронную сеть. Для этого возьмем предобученную модель архитектуры U-Net и в качестве энкодера выберем модель архитектуры ResNet18. Веса возьмем, полученные при обучении модели на датасете ImageNet.\n",
        "\n",
        "Использование предобученного энкодера позволяет эффективно извлекать информативные признаки из изображений, тем самым позволяя ускорить обучение и повысить качество семантической сегментации.\n",
        "\n",
        "Так как мы работает с RGB изображениями, то при инициализации модели необходимо установить параметру `in_channels` значение `3`. Также, так как мы решаем задачу мультиклассовой классификации, то необходимо указать количество предсказываемых классов в параметре `classes`."
      ]
    },
    {
      "cell_type": "code",
      "execution_count": null,
      "metadata": {
        "execution": {
          "iopub.execute_input": "2025-04-22T20:15:51.446383Z",
          "iopub.status.busy": "2025-04-22T20:15:51.446031Z",
          "iopub.status.idle": "2025-04-22T20:15:51.690491Z",
          "shell.execute_reply": "2025-04-22T20:15:51.689940Z",
          "shell.execute_reply.started": "2025-04-22T20:15:51.446360Z"
        },
        "id": "jMfEIV8d5d6_",
        "outputId": "1f711adb-c231-4614-ba8c-334d9290ee0d",
        "trusted": true
      },
      "outputs": [
        {
          "data": {
            "text/plain": [
              "======================================================================\n",
              "Layer (type:depth-idx)                        Param #\n",
              "======================================================================\n",
              "Unet                                          --\n",
              "├─ResNetEncoder: 1-1                          --\n",
              "│    └─Conv2d: 2-1                            9,408\n",
              "│    └─BatchNorm2d: 2-2                       128\n",
              "│    └─ReLU: 2-3                              --\n",
              "│    └─MaxPool2d: 2-4                         --\n",
              "│    └─Sequential: 2-5                        --\n",
              "│    │    └─BasicBlock: 3-1                   73,984\n",
              "│    │    └─BasicBlock: 3-2                   73,984\n",
              "│    └─Sequential: 2-6                        --\n",
              "│    │    └─BasicBlock: 3-3                   230,144\n",
              "│    │    └─BasicBlock: 3-4                   295,424\n",
              "│    └─Sequential: 2-7                        --\n",
              "│    │    └─BasicBlock: 3-5                   919,040\n",
              "│    │    └─BasicBlock: 3-6                   1,180,672\n",
              "│    └─Sequential: 2-8                        --\n",
              "│    │    └─BasicBlock: 3-7                   3,673,088\n",
              "│    │    └─BasicBlock: 3-8                   4,720,640\n",
              "├─UnetDecoder: 1-2                            --\n",
              "│    └─Identity: 2-9                          --\n",
              "│    └─ModuleList: 2-10                       --\n",
              "│    │    └─UnetDecoderBlock: 3-9             2,360,320\n",
              "│    │    └─UnetDecoderBlock: 3-10            590,336\n",
              "│    │    └─UnetDecoderBlock: 3-11            147,712\n",
              "│    │    └─UnetDecoderBlock: 3-12            46,208\n",
              "│    │    └─UnetDecoderBlock: 3-13            6,976\n",
              "├─SegmentationHead: 1-3                       --\n",
              "│    └─Conv2d: 2-11                           5,945\n",
              "│    └─Identity: 2-12                         --\n",
              "│    └─Activation: 2-13                       --\n",
              "│    │    └─Identity: 3-14                    --\n",
              "======================================================================\n",
              "Total params: 14,334,009\n",
              "Trainable params: 14,334,009\n",
              "Non-trainable params: 0\n",
              "======================================================================"
            ]
          },
          "execution_count": 102,
          "metadata": {},
          "output_type": "execute_result"
        }
      ],
      "source": [
        "model = smp.Unet(\n",
        "    encoder_name='resnet18',\n",
        "    encoder_weights='imagenet',\n",
        "    in_channels=3,\n",
        "    classes=len(categories),\n",
        ")\n",
        "\n",
        "torchinfo.summary(model)"
      ]
    },
    {
      "cell_type": "code",
      "execution_count": null,
      "metadata": {
        "colab": {
          "base_uri": "https://localhost:8080/"
        },
        "execution": {
          "iopub.execute_input": "2025-04-22T20:26:11.999156Z",
          "iopub.status.busy": "2025-04-22T20:26:11.998590Z",
          "iopub.status.idle": "2025-04-22T20:26:12.004428Z",
          "shell.execute_reply": "2025-04-22T20:26:12.003513Z",
          "shell.execute_reply.started": "2025-04-22T20:26:11.999125Z"
        },
        "id": "tYJbcCij5d6_",
        "outputId": "c54673c9-3b4a-4a9b-c787-f8026ab15b98",
        "trusted": true
      },
      "outputs": [
        {
          "name": "stdout",
          "output_type": "stream",
          "text": [
            "Step [129 / 129], loss=1.8913665073171036\n",
            "Eval results: iou:0.2849\n",
            "Step [129 / 129], loss=1.7431290852347457\n",
            "Eval results: iou:0.2935\n",
            "Step [129 / 129], loss=1.6560381895352845\n",
            "Eval results: iou:0.3154\n"
          ]
        }
      ],
      "source": [
        "train_ds = SegmentationDataset(train_dataset, categories)\n",
        "val_ds = SegmentationDataset(val_dataset, categories)\n",
        "\n",
        "train_loader = torch.utils.data.DataLoader(train_ds, batch_size=16, shuffle=False, num_workers=2)\n",
        "val_loader = torch.utils.data.DataLoader(val_ds, batch_size=16, shuffle=False, num_workers=2)\n",
        "\n",
        "model = model.to(DEVICE)\n",
        "\n",
        "for _ in range(3):\n",
        "    train_logs = train_model(\n",
        "        model,\n",
        "        train_loader,\n",
        "        torch.nn.CrossEntropyLoss(ignore_index=categories['<BACKGROUND>']),\n",
        "        torch.optim.Adam(model.parameters(), lr=1e-3),\n",
        "    )\n",
        "\n",
        "    for log in train_logs:\n",
        "        print(\n",
        "            '\\rStep [{step} / {steps_amount}], loss={loss}'.format(\n",
        "                step=log['step'],\n",
        "                steps_amount=len(train_loader),\n",
        "                loss=log['loss'],\n",
        "            ),\n",
        "            end='',\n",
        "        )\n",
        "\n",
        "    print()\n",
        "\n",
        "    results = eval_model(model, val_loader, metrics)\n",
        "    print('Eval results: {}'.format(\n",
        "        ', '.join(f\"{name}:{value:.4f}\" for name, value in results.items())\n",
        "    ))"
      ]
    },
    {
      "cell_type": "markdown",
      "metadata": {
        "id": "RoOs5FvK-TRj"
      },
      "source": [
        "На основе приведенных результатов обучения модели на бейзлайне для задачи семантической сегментации изображений можно сделать следующие выводы.\n",
        "\n",
        "Хотя значение ошибки и уменьшается с каждой эпохой, что является признаком того, что модель еще способна к обучению, однако скорость сходимости довольно низкая.\n",
        "\n",
        "Показатели метрики IoU оказались относительно низкими для задачи семантической сегментации.\n",
        "\n",
        "Итого, модель показала не очень хорошие результаты, но постепенное уменьшение значения ошибки и рост показаний метрики IoU показывают, что модель имеет потенциал для улучшения. Возможно, при улучшении бейзлайна стоит увеличить число эпох."
      ]
    },
    {
      "cell_type": "markdown",
      "metadata": {
        "id": "XeDFjyiX5d7A"
      },
      "source": [
        "### Обучение трансформерной модели"
      ]
    },
    {
      "cell_type": "markdown",
      "metadata": {
        "id": "xNAfFNSbY-6I"
      },
      "source": [
        "Обучим теперь на бейзлайне модель, основанную на трансформерной архитектуре. Для этого я выбрал модель на архитектуре `SegFormer`. В качестве энкодера используем легкую и быструю модификацию — `MiT-B0`. Мы также инициализируем энкодер предобученными весами, полученными на датасете `ImageNet`.\n",
        "\n",
        "Так как мы также работаем с RGB изображениями, параметр `in_channels` устанавливается в значение `3`. А параметр `classes` устанавливается равным количеству сегментируемых классов, определяемому переменной `categories`."
      ]
    },
    {
      "cell_type": "code",
      "execution_count": null,
      "metadata": {
        "colab": {
          "referenced_widgets": [
            "8e46ac50f754475199fa9d49123a92df",
            "c2601db20e80491ebd4e3c7fa2d19d4f"
          ]
        },
        "execution": {
          "iopub.execute_input": "2025-04-22T21:48:17.010756Z",
          "iopub.status.busy": "2025-04-22T21:48:17.010484Z",
          "iopub.status.idle": "2025-04-22T21:48:17.689671Z",
          "shell.execute_reply": "2025-04-22T21:48:17.689065Z",
          "shell.execute_reply.started": "2025-04-22T21:48:17.010734Z"
        },
        "id": "8oWwKzy55d7B",
        "outputId": "db8d3df8-ff80-42ed-9362-da51aa745d4f",
        "trusted": true
      },
      "outputs": [
        {
          "data": {
            "application/vnd.jupyter.widget-view+json": {
              "model_id": "8e46ac50f754475199fa9d49123a92df",
              "version_major": 2,
              "version_minor": 0
            },
            "text/plain": [
              "config.json:   0%|          | 0.00/135 [00:00<?, ?B/s]"
            ]
          },
          "metadata": {},
          "output_type": "display_data"
        },
        {
          "data": {
            "application/vnd.jupyter.widget-view+json": {
              "model_id": "c2601db20e80491ebd4e3c7fa2d19d4f",
              "version_major": 2,
              "version_minor": 0
            },
            "text/plain": [
              "model.safetensors:   0%|          | 0.00/14.3M [00:00<?, ?B/s]"
            ]
          },
          "metadata": {},
          "output_type": "display_data"
        },
        {
          "data": {
            "text/plain": [
              "======================================================================\n",
              "Layer (type:depth-idx)                        Param #\n",
              "======================================================================\n",
              "Segformer                                     --\n",
              "├─MixVisionTransformerEncoder: 1-1            --\n",
              "│    └─OverlapPatchEmbed: 2-1                 --\n",
              "│    │    └─Conv2d: 3-1                       4,736\n",
              "│    │    └─LayerNorm: 3-2                    64\n",
              "│    └─OverlapPatchEmbed: 2-2                 --\n",
              "│    │    └─Conv2d: 3-3                       18,496\n",
              "│    │    └─LayerNorm: 3-4                    128\n",
              "│    └─OverlapPatchEmbed: 2-3                 --\n",
              "│    │    └─Conv2d: 3-5                       92,320\n",
              "│    │    └─LayerNorm: 3-6                    320\n",
              "│    └─OverlapPatchEmbed: 2-4                 --\n",
              "│    │    └─Conv2d: 3-7                       368,896\n",
              "│    │    └─LayerNorm: 3-8                    512\n",
              "│    └─Sequential: 2-5                        --\n",
              "│    │    └─Block: 3-9                        79,616\n",
              "│    │    └─Block: 3-10                       79,616\n",
              "│    └─LayerNorm: 2-6                         64\n",
              "│    └─Sequential: 2-7                        --\n",
              "│    │    └─Block: 3-11                       118,272\n",
              "│    │    └─Block: 3-12                       118,272\n",
              "│    └─LayerNorm: 2-8                         128\n",
              "│    └─Sequential: 2-9                        --\n",
              "│    │    └─Block: 3-13                       418,560\n",
              "│    │    └─Block: 3-14                       418,560\n",
              "│    └─LayerNorm: 2-10                        320\n",
              "│    └─Sequential: 2-11                       --\n",
              "│    │    └─Block: 3-15                       800,000\n",
              "│    │    └─Block: 3-16                       800,000\n",
              "│    └─LayerNorm: 2-12                        512\n",
              "├─SegformerDecoder: 1-2                       --\n",
              "│    └─ModuleList: 2-13                       --\n",
              "│    │    └─MLP: 3-17                         65,792\n",
              "│    │    └─MLP: 3-18                         41,216\n",
              "│    │    └─MLP: 3-19                         16,640\n",
              "│    │    └─MLP: 3-20                         8,448\n",
              "│    └─Conv2dReLU: 2-14                       --\n",
              "│    │    └─Conv2d: 3-21                      262,144\n",
              "│    │    └─BatchNorm2d: 3-22                 512\n",
              "│    │    └─ReLU: 3-23                        --\n",
              "├─SegmentationHead: 1-3                       --\n",
              "│    └─Conv2d: 2-15                           10,537\n",
              "│    └─UpsamplingBilinear2d: 2-16             --\n",
              "│    └─Activation: 2-17                       --\n",
              "│    │    └─Identity: 3-24                    --\n",
              "======================================================================\n",
              "Total params: 3,724,681\n",
              "Trainable params: 3,724,681\n",
              "Non-trainable params: 0\n",
              "======================================================================"
            ]
          },
          "execution_count": 13,
          "metadata": {},
          "output_type": "execute_result"
        }
      ],
      "source": [
        "model = smp.Segformer(\n",
        "    encoder_name='mit_b0',\n",
        "    encoder_weights='imagenet',\n",
        "    in_channels=3,\n",
        "    classes=len(categories),\n",
        ")\n",
        "\n",
        "torchinfo.summary(model)"
      ]
    },
    {
      "cell_type": "code",
      "execution_count": null,
      "metadata": {
        "colab": {
          "base_uri": "https://localhost:8080/"
        },
        "execution": {
          "iopub.execute_input": "2025-04-22T21:48:28.092216Z",
          "iopub.status.busy": "2025-04-22T21:48:28.091814Z",
          "iopub.status.idle": "2025-04-22T21:55:02.621851Z",
          "shell.execute_reply": "2025-04-22T21:55:02.620942Z",
          "shell.execute_reply.started": "2025-04-22T21:48:28.092194Z"
        },
        "id": "Au9TWg505d7B",
        "outputId": "fa9cccbb-dbe2-4504-bee8-1378b608f662",
        "trusted": true
      },
      "outputs": [
        {
          "name": "stdout",
          "output_type": "stream",
          "text": [
            "Step [129 / 129], loss=1.7637385077113615\n",
            "Eval results: iou:0.3675\n",
            "Step [129 / 129], loss=1.5641648160330717\n",
            "Eval results: iou:0.2546\n",
            "Step [129 / 129], loss=1.4274902436205097\n",
            "Eval results: iou:0.3557\n"
          ]
        }
      ],
      "source": [
        "train_ds = SegmentationDataset(train_dataset, categories)\n",
        "val_ds = SegmentationDataset(val_dataset, categories)\n",
        "\n",
        "train_loader = torch.utils.data.DataLoader(train_ds, batch_size=16, shuffle=False, num_workers=2)\n",
        "val_loader = torch.utils.data.DataLoader(val_ds, batch_size=16, shuffle=False, num_workers=2)\n",
        "\n",
        "model = model.to(DEVICE)\n",
        "\n",
        "for _ in range(3):\n",
        "    train_logs = train_model(\n",
        "        model,\n",
        "        train_loader,\n",
        "        torch.nn.CrossEntropyLoss(ignore_index=categories['<BACKGROUND>']),\n",
        "        torch.optim.Adam(model.parameters(), lr=1e-3),\n",
        "    )\n",
        "\n",
        "    for log in train_logs:\n",
        "        print(\n",
        "            '\\rStep [{step} / {steps_amount}], loss={loss}'.format(\n",
        "                step=log['step'],\n",
        "                steps_amount=len(train_loader),\n",
        "                loss=log['loss'],\n",
        "            ),\n",
        "            end='',\n",
        "        )\n",
        "\n",
        "    print()\n",
        "\n",
        "    results = eval_model(model, val_loader, metrics)\n",
        "    print('Eval results: {}'.format(\n",
        "        ', '.join(f\"{name}:{value:.4f}\" for name, value in results.items())\n",
        "    ))"
      ]
    },
    {
      "cell_type": "markdown",
      "metadata": {
        "id": "DDsjLheWbazW"
      },
      "source": [
        "На основе приведенных результатов обучения модели на бейзлайне для задачи семантической сегментации изображений можно сделать следующие выводы.\n",
        "\n",
        "На второй эпозе заметно колебание, проявляющееся в виде падения метрики IoU. Это может быть связано с начальной адаптацией трансформерной архитектуры к задаче.\n",
        "\n",
        "Модель, основанная на архитектуре `SegFormer` на базе `MiT-B0` показывает более высокое качество сегментации и обучается эффективнее в сравнении со сверточной моделью `U-Net` с энкодером `ResNet18`.\n",
        "\n",
        "Итоговые значения метрики IoU указывают на то, что модель показывает обещающие результаты, но модель все также нуждается в улучшении бейзлайна.\n",
        "\n"
      ]
    },
    {
      "cell_type": "markdown",
      "metadata": {
        "id": "M-Q1CVw25d7C"
      },
      "source": [
        "## Улучшение бейзлайна"
      ]
    },
    {
      "cell_type": "markdown",
      "metadata": {
        "id": "ygxqLDjK5d7C"
      },
      "source": [
        "### Обрезка изображений"
      ]
    },
    {
      "cell_type": "markdown",
      "metadata": {
        "id": "6BGZfWQlchYB"
      },
      "source": [
        "Одной из проблем, которые присущи текущему бейзлайну, является то, что задний фон занимает основное пространство на изображении, из-за чего доля пикселей, относящихся к объекту на изображении становится слишком маленькой.\n",
        "\n",
        "Так как пиксели, относящиеся к заднему фону, нас не особо интересуют, попробуем убрать их. Для этого воспользуемся информацией из `bbox` и \"обрежем\" изображение вместе с маской, оставив только ту часть, в которой находится наш целевой объект.\n",
        "\n",
        "На обрезанной фотографии доля пикселей, относящихся к объекту, будет уже гораздо больше, что теоретически должно положительно сказаться на обучении модели.\n",
        "\n",
        "Для этого реализуем функцию `crop_image`, которая на основе переданной информации о координатах `bbox` будет осуществлять обрезку фотографии, и передадим ее на вход конструкторам датасетов."
      ]
    },
    {
      "cell_type": "code",
      "execution_count": null,
      "metadata": {
        "execution": {
          "iopub.execute_input": "2025-04-22T21:56:43.691224Z",
          "iopub.status.busy": "2025-04-22T21:56:43.690596Z",
          "iopub.status.idle": "2025-04-22T21:56:43.695806Z",
          "shell.execute_reply": "2025-04-22T21:56:43.695087Z",
          "shell.execute_reply.started": "2025-04-22T21:56:43.691197Z"
        },
        "id": "W5mraXwN5d7C",
        "trusted": true
      },
      "outputs": [],
      "source": [
        "def crop_image(image, bbox, mask):\n",
        "    x, y, w, h = bbox\n",
        "    cropped_image = image.crop((x, y, x + w, y + h))\n",
        "    cropped_mask = mask.crop((x, y, x + w, y + h))\n",
        "    return cropped_image, cropped_mask\n",
        "\n",
        "\n",
        "train_ds = SegmentationDataset(train_dataset, categories, transform=crop_image)\n",
        "val_ds = SegmentationDataset(val_dataset, categories, transform=crop_image)"
      ]
    },
    {
      "cell_type": "markdown",
      "metadata": {
        "id": "Cfczd34ldXXr"
      },
      "source": [
        "Попробуем обучить на улучшенном бейзлайне сверточную модель."
      ]
    },
    {
      "cell_type": "code",
      "execution_count": null,
      "metadata": {
        "colab": {
          "base_uri": "https://localhost:8080/"
        },
        "execution": {
          "iopub.execute_input": "2025-04-22T20:31:36.864264Z",
          "iopub.status.busy": "2025-04-22T20:31:36.863968Z",
          "iopub.status.idle": "2025-04-22T20:40:35.787737Z",
          "shell.execute_reply": "2025-04-22T20:40:35.786752Z",
          "shell.execute_reply.started": "2025-04-22T20:31:36.864238Z"
        },
        "id": "JscHS3Ib5d7C",
        "outputId": "fa487c09-b3f7-4bf0-e5c7-01f39f0e39ff",
        "trusted": true
      },
      "outputs": [
        {
          "name": "stdout",
          "output_type": "stream",
          "text": [
            "Step [129 / 129], loss=2.0427937555012633\n",
            "Eval results: iou:0.2471\n",
            "Step [129 / 129], loss=1.8433424963051985\n",
            "Eval results: iou:0.3096\n",
            "Step [129 / 129], loss=1.7586301685708627\n",
            "Eval results: iou:0.3299\n",
            "Step [129 / 129], loss=1.6007164526147514\n",
            "Eval results: iou:0.3531\n",
            "Step [129 / 129], loss=1.4575496708485785\n",
            "Eval results: iou:0.3543\n"
          ]
        }
      ],
      "source": [
        "train_loader = torch.utils.data.DataLoader(train_ds, batch_size=16, shuffle=False, num_workers=2)\n",
        "val_loader = torch.utils.data.DataLoader(val_ds, batch_size=16, shuffle=False, num_workers=2)\n",
        "\n",
        "model = smp.Unet(\n",
        "    encoder_name='resnet18',\n",
        "    encoder_weights='imagenet',\n",
        "    in_channels=3,\n",
        "    classes=len(categories),\n",
        ").to(DEVICE)\n",
        "\n",
        "for _ in range(5):\n",
        "    train_logs = train_model(\n",
        "        model,\n",
        "        train_loader,\n",
        "        torch.nn.CrossEntropyLoss(ignore_index=categories['<BACKGROUND>']),\n",
        "        torch.optim.Adam(model.parameters(), lr=1e-3),\n",
        "    )\n",
        "\n",
        "    for log in train_logs:\n",
        "        print(\n",
        "            '\\rStep [{step} / {steps_amount}], loss={loss}'.format(\n",
        "                step=log['step'],\n",
        "                steps_amount=len(train_loader),\n",
        "                loss=log['loss'],\n",
        "            ),\n",
        "            end='',\n",
        "        )\n",
        "\n",
        "    print()\n",
        "\n",
        "    results = eval_model(model, val_loader, metrics)\n",
        "    print('Eval results: {}'.format(\n",
        "        ', '.join(f\"{name}:{value:.4f}\" for name, value in results.items())\n",
        "    ))"
      ]
    },
    {
      "cell_type": "markdown",
      "metadata": {
        "id": "FsC5B_hGebwz"
      },
      "source": [
        "Визуально проверим, как модель на данный момент справляется с задачей семантической сегментации"
      ]
    },
    {
      "cell_type": "code",
      "execution_count": null,
      "metadata": {
        "execution": {
          "iopub.execute_input": "2025-04-22T20:46:47.467633Z",
          "iopub.status.busy": "2025-04-22T20:46:47.467340Z",
          "iopub.status.idle": "2025-04-22T20:46:48.011588Z",
          "shell.execute_reply": "2025-04-22T20:46:48.010706Z",
          "shell.execute_reply.started": "2025-04-22T20:46:47.467613Z"
        },
        "id": "Y_7pnUut5d7D",
        "outputId": "7875af75-b840-4727-e361-1fb44e50b91e",
        "trusted": true
      },
      "outputs": [
        {
          "data": {
            "image/png": "[encoded data removed]",
            "text/plain": [
              "<Figure size 1200x600 with 2 Axes>"
            ]
          },
          "metadata": {},
          "output_type": "display_data"
        }
      ],
      "source": [
        "test_model(model, *val_ds[0], categories[val_dataset[0]['category']])"
      ]
    },
    {
      "cell_type": "markdown",
      "metadata": {
        "id": "lpfq9iaMejfC"
      },
      "source": [
        "Попробуем теперь обучить на улучшенному бейзлайне трансформерную модель"
      ]
    },
    {
      "cell_type": "code",
      "execution_count": null,
      "metadata": {
        "colab": {
          "base_uri": "https://localhost:8080/"
        },
        "execution": {
          "iopub.execute_input": "2025-04-22T21:56:50.326090Z",
          "iopub.status.busy": "2025-04-22T21:56:50.325800Z",
          "iopub.status.idle": "2025-04-22T22:05:32.886900Z",
          "shell.execute_reply": "2025-04-22T22:05:32.886079Z",
          "shell.execute_reply.started": "2025-04-22T21:56:50.326071Z"
        },
        "id": "E7lycw8T5d7D",
        "outputId": "c20482d4-d074-464b-a983-1b69a0ca2a1d",
        "trusted": true
      },
      "outputs": [
        {
          "name": "stdout",
          "output_type": "stream",
          "text": [
            "Step [129 / 129], loss=2.2057004447591236\n",
            "Eval results: iou:0.2045\n",
            "Step [129 / 129], loss=2.0618190975716204\n",
            "Eval results: iou:0.2733\n",
            "Step [129 / 129], loss=1.9261241693029807\n",
            "Eval results: iou:0.2829\n",
            "Step [129 / 129], loss=1.8515174584196887\n",
            "Eval results: iou:0.2911\n",
            "Step [129 / 129], loss=1.8406252714250484\n",
            "Eval results: iou:0.3157\n"
          ]
        }
      ],
      "source": [
        "train_loader = torch.utils.data.DataLoader(train_ds, batch_size=16, shuffle=False, num_workers=2)\n",
        "val_loader = torch.utils.data.DataLoader(val_ds, batch_size=16, shuffle=False, num_workers=2)\n",
        "\n",
        "model = smp.Segformer(\n",
        "    encoder_name='mit_b0',\n",
        "    encoder_weights='imagenet',\n",
        "    in_channels=3,\n",
        "    classes=len(categories),\n",
        ").to(DEVICE)\n",
        "\n",
        "for _ in range(5):\n",
        "    train_logs = train_model(\n",
        "        model,\n",
        "        train_loader,\n",
        "        torch.nn.CrossEntropyLoss(ignore_index=categories['<BACKGROUND>']),\n",
        "        torch.optim.Adam(model.parameters(), lr=1e-3),\n",
        "    )\n",
        "\n",
        "    for log in train_logs:\n",
        "        print(\n",
        "            '\\rStep [{step} / {steps_amount}], loss={loss}'.format(\n",
        "                step=log['step'],\n",
        "                steps_amount=len(train_loader),\n",
        "                loss=log['loss'],\n",
        "            ),\n",
        "            end='',\n",
        "        )\n",
        "\n",
        "    print()\n",
        "\n",
        "    results = eval_model(model, val_loader, metrics)\n",
        "    print('Eval results: {}'.format(\n",
        "        ', '.join(f\"{name}:{value:.4f}\" for name, value in results.items())\n",
        "    ))"
      ]
    },
    {
      "cell_type": "markdown",
      "metadata": {
        "id": "ujVaeIV5fNYH"
      },
      "source": [
        "Визуально проверим, как модель на данный момент справляется с задачей семантической сегментации"
      ]
    },
    {
      "cell_type": "code",
      "execution_count": null,
      "metadata": {
        "execution": {
          "iopub.execute_input": "2025-04-22T22:11:09.052844Z",
          "iopub.status.busy": "2025-04-22T22:11:09.052544Z",
          "iopub.status.idle": "2025-04-22T22:11:09.638450Z",
          "shell.execute_reply": "2025-04-22T22:11:09.637734Z",
          "shell.execute_reply.started": "2025-04-22T22:11:09.052823Z"
        },
        "id": "zhElvNH85d7E",
        "outputId": "e6e90cdc-597e-40e7-830c-5677e8dc5127",
        "trusted": true
      },
      "outputs": [
        {
          "data": {
            "image/png": "[encoded data removed]",
            "text/plain": [
              "<Figure size 1200x600 with 2 Axes>"
            ]
          },
          "metadata": {},
          "output_type": "display_data"
        }
      ],
      "source": [
        "index = 20\n",
        "test_model(model, *val_ds[index], categories[val_dataset[index]['category']])"
      ]
    },
    {
      "cell_type": "markdown",
      "metadata": {
        "id": "mnHQGeDNfPUD"
      },
      "source": [
        "Как видим, обрезка изображения по bounding box дала положительный результат только для сверточной модели. Показатели трансформерной модели, наоборот, немного ухудшились."
      ]
    },
    {
      "cell_type": "markdown",
      "metadata": {
        "id": "MEiIXESE5d7E"
      },
      "source": [
        "### Аугментация"
      ]
    },
    {
      "cell_type": "markdown",
      "metadata": {
        "id": "h0SUcV2cfie0"
      },
      "source": [
        "Вторая гипотеза по улучшению бейзлайна состоит в использовании техники аугментации данных, которая направлена на повышение обобщающей способности модели.\n",
        "\n",
        "Для этого создадим последовательность преобразований `_augmetn`, которая будет включать в себя:\n",
        "- Случайное горизонтальное отражение;\n",
        "- Случайное вращение изображения на угол до 15 градусов.\n",
        "\n",
        "Так как нам необходимо выполнить одинаковые преобразования как для изображения, так и для маски, то воспользуемся в этот раз библиотекой `albumentations`, которая позволяет указать дополнительное изображения, к которому будут применены те же преобразования, что и к целевому входному изображению."
      ]
    },
    {
      "cell_type": "code",
      "execution_count": null,
      "metadata": {
        "execution": {
          "iopub.execute_input": "2025-04-22T22:15:33.047681Z",
          "iopub.status.busy": "2025-04-22T22:15:33.047169Z",
          "iopub.status.idle": "2025-04-22T22:15:33.062013Z",
          "shell.execute_reply": "2025-04-22T22:15:33.061475Z",
          "shell.execute_reply.started": "2025-04-22T22:15:33.047655Z"
        },
        "id": "Sr0J6mI65d7M",
        "trusted": true
      },
      "outputs": [],
      "source": [
        "_augment = albumentations.Compose(\n",
        "    [\n",
        "        albumentations.HorizontalFlip(p=0.5),\n",
        "        albumentations.Rotate(limit=15, p=0.5),\n",
        "    ],\n",
        "    additional_targets={'mask': 'mask'},\n",
        ")\n",
        "\n",
        "\n",
        "def augment_pair(image, mask):\n",
        "    image = np.array(image)\n",
        "    mask = np.array(mask)\n",
        "\n",
        "    augmented = _augment(image=image, mask=mask)\n",
        "    return Image.fromarray(augmented['image']), Image.fromarray(augmented['mask'])\n",
        "\n",
        "\n",
        "def transform(image, bbox, mask):\n",
        "    image, mask = augment_pair(image, mask)\n",
        "    return crop_image(image, bbox, mask)\n",
        "\n",
        "\n",
        "train_ds = SegmentationDataset(train_dataset, categories, transform=transform)\n",
        "val_ds = SegmentationDataset(val_dataset, categories, transform=crop_image)"
      ]
    },
    {
      "cell_type": "markdown",
      "metadata": {
        "id": "p2PU0os_gDqG"
      },
      "source": [
        "Попробуем обучить на улучшенном бейзлайне сверточную модель."
      ]
    },
    {
      "cell_type": "code",
      "execution_count": null,
      "metadata": {
        "colab": {
          "base_uri": "https://localhost:8080/"
        },
        "execution": {
          "iopub.execute_input": "2025-04-22T20:56:48.589184Z",
          "iopub.status.busy": "2025-04-22T20:56:48.588927Z",
          "iopub.status.idle": "2025-04-22T21:08:40.130124Z",
          "shell.execute_reply": "2025-04-22T21:08:40.129057Z",
          "shell.execute_reply.started": "2025-04-22T20:56:48.589167Z"
        },
        "id": "1-O5DTIg5d7M",
        "outputId": "3dca523e-ea6a-4878-d1c0-c46d781af2be",
        "trusted": true
      },
      "outputs": [
        {
          "name": "stdout",
          "output_type": "stream",
          "text": [
            "Step [129 / 129], loss=1.9741288213780708\n",
            "Eval results: iou:0.3281\n",
            "Step [129 / 129], loss=1.7657065480297423\n",
            "Eval results: iou:0.3711\n",
            "Step [129 / 129], loss=1.5433257452908847\n",
            "Eval results: iou:0.3844\n",
            "Step [129 / 129], loss=2.4801414508005977\n",
            "Eval results: iou:0.4056\n",
            "Step [129 / 129], loss=1.3545117314903123\n",
            "Eval results: iou:0.4123\n"
          ]
        }
      ],
      "source": [
        "train_loader = torch.utils.data.DataLoader(train_ds, batch_size=16, shuffle=False, num_workers=2)\n",
        "val_loader = torch.utils.data.DataLoader(val_ds, batch_size=16, shuffle=False, num_workers=2)\n",
        "\n",
        "model = smp.Unet(\n",
        "    encoder_name='resnet18',\n",
        "    encoder_weights='imagenet',\n",
        "    in_channels=3,\n",
        "    classes=len(categories),\n",
        ").to(DEVICE)\n",
        "\n",
        "for _ in range(5):\n",
        "    train_logs = train_model(\n",
        "        model,\n",
        "        train_loader,\n",
        "        torch.nn.CrossEntropyLoss(ignore_index=categories['<BACKGROUND>']),\n",
        "        torch.optim.Adam(model.parameters(), lr=1e-3),\n",
        "    )\n",
        "\n",
        "    for log in train_logs:\n",
        "        print(\n",
        "            '\\rStep [{step} / {steps_amount}], loss={loss}'.format(\n",
        "                step=log['step'],\n",
        "                steps_amount=len(train_loader),\n",
        "                loss=log['loss'],\n",
        "            ),\n",
        "            end='',\n",
        "        )\n",
        "\n",
        "    print()\n",
        "\n",
        "    results = eval_model(model, val_loader, metrics)\n",
        "    print('Eval results: {}'.format(\n",
        "        ', '.join(f\"{name}:{value:.4f}\" for name, value in results.items())\n",
        "    ))"
      ]
    },
    {
      "cell_type": "markdown",
      "metadata": {
        "id": "Padivh7rg5p7"
      },
      "source": [
        "Визуально проверим, как модель на данный момент справляется с задачей семантической сегментации"
      ]
    },
    {
      "cell_type": "code",
      "execution_count": null,
      "metadata": {
        "execution": {
          "iopub.execute_input": "2025-04-22T21:11:00.310960Z",
          "iopub.status.busy": "2025-04-22T21:11:00.310325Z",
          "iopub.status.idle": "2025-04-22T21:11:00.809601Z",
          "shell.execute_reply": "2025-04-22T21:11:00.808897Z",
          "shell.execute_reply.started": "2025-04-22T21:11:00.310932Z"
        },
        "id": "qb_YXga45d7N",
        "outputId": "4bf54f15-4a8c-462e-fd90-955ad80b52f6",
        "trusted": true
      },
      "outputs": [
        {
          "data": {
            "image/png": "[encoded data removed]",
            "text/plain": [
              "<Figure size 1200x600 with 2 Axes>"
            ]
          },
          "metadata": {},
          "output_type": "display_data"
        }
      ],
      "source": [
        "test_model(model, *val_ds[0], categories[val_dataset[0]['category']])"
      ]
    },
    {
      "cell_type": "code",
      "execution_count": null,
      "metadata": {
        "colab": {
          "base_uri": "https://localhost:8080/"
        },
        "execution": {
          "iopub.execute_input": "2025-04-22T22:16:16.443946Z",
          "iopub.status.busy": "2025-04-22T22:16:16.443337Z",
          "iopub.status.idle": "2025-04-22T22:29:37.640525Z",
          "shell.execute_reply": "2025-04-22T22:29:37.639684Z",
          "shell.execute_reply.started": "2025-04-22T22:16:16.443922Z"
        },
        "id": "sCZgODG_5d7N",
        "outputId": "56a9f98b-b609-4f46-f50a-74fce65c11aa",
        "trusted": true
      },
      "outputs": [
        {
          "name": "stdout",
          "output_type": "stream",
          "text": [
            "Step [129 / 129], loss=2.5233388603051427\n",
            "Eval results: iou:0.1611\n",
            "Step [129 / 129], loss=2.2768655347292487\n",
            "Eval results: iou:0.1830\n",
            "Step [129 / 129], loss=2.1657169722956013\n",
            "Eval results: iou:0.2134\n",
            "Step [129 / 129], loss=1.9181014840370582\n",
            "Eval results: iou:0.2828\n",
            "Step [129 / 129], loss=1.8237502788260796\n",
            "Eval results: iou:0.3042\n"
          ]
        }
      ],
      "source": [
        "train_loader = torch.utils.data.DataLoader(train_ds, batch_size=16, shuffle=False, num_workers=2)\n",
        "val_loader = torch.utils.data.DataLoader(val_ds, batch_size=16, shuffle=False, num_workers=2)\n",
        "\n",
        "model = smp.Segformer(\n",
        "    encoder_name='mit_b0',\n",
        "    encoder_weights='imagenet',\n",
        "    in_channels=3,\n",
        "    classes=len(categories),\n",
        ").to(DEVICE)\n",
        "\n",
        "for _ in range(5):\n",
        "    train_logs = train_model(\n",
        "        model,\n",
        "        train_loader,\n",
        "        torch.nn.CrossEntropyLoss(ignore_index=categories['<BACKGROUND>']),\n",
        "        torch.optim.Adam(model.parameters(), lr=1e-3),\n",
        "    )\n",
        "\n",
        "    for log in train_logs:\n",
        "        print(\n",
        "            '\\rStep [{step} / {steps_amount}], loss={loss}'.format(\n",
        "                step=log['step'],\n",
        "                steps_amount=len(train_loader),\n",
        "                loss=log['loss'],\n",
        "            ),\n",
        "            end='',\n",
        "        )\n",
        "\n",
        "    print()\n",
        "\n",
        "    results = eval_model(model, val_loader, metrics)\n",
        "    print('Eval results: {}'.format(\n",
        "        ', '.join(f\"{name}:{value:.4f}\" for name, value in results.items())\n",
        "    ))"
      ]
    },
    {
      "cell_type": "markdown",
      "metadata": {
        "id": "fx0gIlxAkWYr"
      },
      "source": [
        "Визуально проверим, как модель на данный момент справляется с задачей семантической сегментации"
      ]
    },
    {
      "cell_type": "code",
      "execution_count": null,
      "metadata": {
        "execution": {
          "iopub.execute_input": "2025-04-22T22:33:17.737103Z",
          "iopub.status.busy": "2025-04-22T22:33:17.736548Z",
          "iopub.status.idle": "2025-04-22T22:33:18.283833Z",
          "shell.execute_reply": "2025-04-22T22:33:18.283223Z",
          "shell.execute_reply.started": "2025-04-22T22:33:17.737078Z"
        },
        "id": "Plnh1t-W5d7O",
        "outputId": "18d96b5c-acde-4530-e4ee-aa5bbd196ea8",
        "trusted": true
      },
      "outputs": [
        {
          "data": {
            "image/png": "[encoded data removed]",
            "text/plain": [
              "<Figure size 1200x600 with 2 Axes>"
            ]
          },
          "metadata": {},
          "output_type": "display_data"
        }
      ],
      "source": [
        "test_model(model, *val_ds[24], categories[val_dataset[24]['category']])"
      ]
    },
    {
      "cell_type": "markdown",
      "metadata": {
        "id": "U4QwLN2CkX-i"
      },
      "source": [
        "Аналогично с применением обрезки изображений, применение аугментации дало положительный результат только для сверточной модели, в то время как для трансформерной модели, наоборот, сделало результаты немного хуже.\n",
        "\n",
        "Итого, можно сказать, что методы улучшения бейзлайна, которые были применены, позволили улучшить качество модели на базе архитектуры U-Net, однако, не оказали положительных результатов для модели на базе архитектуры Segformer."
      ]
    },
    {
      "cell_type": "markdown",
      "metadata": {
        "id": "mPYmtZU95d7O"
      },
      "source": [
        "## Имплементация алгоритма машинного обучения"
      ]
    },
    {
      "cell_type": "markdown",
      "metadata": {
        "id": "7xO6318YpDy1"
      },
      "source": [
        "### Сверточная модель"
      ]
    },
    {
      "cell_type": "markdown",
      "metadata": {
        "id": "cnqWUAWam5L6"
      },
      "source": [
        "Перейдем теперь к имплементации сверточной модели для решения задачи семантической сегментации. Так как архитектура U-Net значительно сложнее архитектуры простой сверточной модели для решения задачи классификации, то мы в этот раз опишем ее в виде класса `UNetImplementation`.\n",
        "\n",
        "При реализации я придерживался того, чтобы дать возможность гибко настраивать архитектуру с помощью конфигурации слоёв. Это делает реализацию более универсальной и адаптируемой под различные датасеты и ресурсы.\n",
        "\n",
        "Во входной конфигурации каждый уровень описывается словарём с параметрами количества входных и выходных каналов:\n",
        "- `in_channels` - описывает количество входных каналов на данном уровне;\n",
        "- `out_channels` - описывает количество выходных каналов на данном уровне.\n",
        "\n",
        "Параметр конструктора `num_classes` описывает количество классов, предсказываемых моделью. Этот параметр используется на финальном слое классификации.\n",
        "\n",
        "Сама модель состоит из следующих компонентов:\n",
        "1. **Энкодер**. Этот компонент включает в себя набор свёрточных блоков с функцией ReLU и последующей операцией пула. Данный компонент используется для извлечения признаков и уменьшения разрешения изображения.\n",
        "2. **Боттлнек**. Этот компонента представляет центральную часть U-Net. В нем происходит наибольшее сжатие. Также, здесь происходит увеличение глубины признаков в два раза по сравнению с последним энкодерным уровнем.\n",
        "3. **Декодер**. В данном компоненте каждый уровень включает транспонированную свёртку, которая необходима для увеличения разрешения, и блок свёрток с пропущенным соединением из соответствующего уровня энкодера.\n",
        "4. **Финальный слой**. Последний компонент, который содержит одноканальную свёртку, которая преобразует результат к требуемому количеству классов.\n",
        "\n",
        "Наконец, в методе `forward` описана основная логика того, как модель обрабатывает входные данные и формирует предсказания для каждого пикселя:\n",
        "- в энкодере формируются карты признаков;\n",
        "- они сохраняются для использования в skip-соединениях;\n",
        "- в декодере происходит объединение апсемплированных карт признаков с соответствующими энкодерными;\n",
        "- на выходе возвращается маска с предсказаниями для каждого пикселя."
      ]
    },
    {
      "cell_type": "code",
      "execution_count": null,
      "metadata": {
        "execution": {
          "iopub.execute_input": "2025-04-22T21:28:26.142379Z",
          "iopub.status.busy": "2025-04-22T21:28:26.142047Z",
          "iopub.status.idle": "2025-04-22T21:28:26.152108Z",
          "shell.execute_reply": "2025-04-22T21:28:26.151271Z",
          "shell.execute_reply.started": "2025-04-22T21:28:26.142351Z"
        },
        "id": "1LzVQkv_5d7P",
        "trusted": true
      },
      "outputs": [],
      "source": [
        "class UNetImplementation(torch.nn.Module):\n",
        "    def __init__(self, layers_config, num_classes):\n",
        "        super().__init__()\n",
        "\n",
        "        self._encoder_blocks = torch.nn.ModuleList()\n",
        "        self._downsampling_layers = torch.nn.ModuleList()\n",
        "\n",
        "        for layer in layers_config:\n",
        "            self._encoder_blocks.append(\n",
        "                torch.nn.Sequential(\n",
        "                    torch.nn.Conv2d(\n",
        "                        layer['in_channels'],\n",
        "                        layer['out_channels'],\n",
        "                        kernel_size=3,\n",
        "                        padding=1,\n",
        "                    ),\n",
        "                    torch.nn.ReLU(),\n",
        "                    torch.nn.Conv2d(\n",
        "                        layer['out_channels'],\n",
        "                        layer['out_channels'],\n",
        "                        kernel_size=3,\n",
        "                        padding=1,\n",
        "                    ),\n",
        "                    torch.nn.ReLU(),\n",
        "                )\n",
        "            )\n",
        "            self._downsampling_layers.append(torch.nn.MaxPool2d(kernel_size=2))\n",
        "\n",
        "        bottleneck_in = layers_config[-1]['out_channels']\n",
        "        bottleneck_out = bottleneck_in * 2\n",
        "\n",
        "        self._bottleneck_block = torch.nn.Sequential(\n",
        "            torch.nn.Conv2d(\n",
        "                bottleneck_in,\n",
        "                bottleneck_out,\n",
        "                kernel_size=3,\n",
        "                padding=1,\n",
        "            ),\n",
        "            torch.nn.ReLU(),\n",
        "            torch.nn.Conv2d(\n",
        "                bottleneck_out,\n",
        "                bottleneck_out,\n",
        "                kernel_size=3,\n",
        "                padding=1,\n",
        "            ),\n",
        "            torch.nn.ReLU(),\n",
        "        )\n",
        "\n",
        "        self._upsampling_layers = torch.nn.ModuleList()\n",
        "        self._decoder_blocks = torch.nn.ModuleList()\n",
        "        reversed_config = list(reversed(layers_config))\n",
        "\n",
        "        for layer in reversed_config:\n",
        "            self._upsampling_layers.append(\n",
        "                torch.nn.ConvTranspose2d(\n",
        "                    bottleneck_out,\n",
        "                    layer['out_channels'],\n",
        "                    kernel_size=2,\n",
        "                    stride=2,\n",
        "                ),\n",
        "            )\n",
        "\n",
        "            self._decoder_blocks.append(\n",
        "                torch.nn.Sequential(\n",
        "                    torch.nn.Conv2d(\n",
        "                        layer['out_channels'] * 2,\n",
        "                        layer['out_channels'],\n",
        "                        kernel_size=3,\n",
        "                        padding=1,\n",
        "                    ),\n",
        "                    torch.nn.ReLU(),\n",
        "                    torch.nn.Conv2d(\n",
        "                        layer['out_channels'],\n",
        "                        layer['out_channels'],\n",
        "                        kernel_size=3,\n",
        "                        padding=1,\n",
        "                    ),\n",
        "                    torch.nn.ReLU(),\n",
        "                )\n",
        "            )\n",
        "\n",
        "            bottleneck_out = layer['out_channels']\n",
        "\n",
        "        self._final_convolution = torch.nn.Conv2d(\n",
        "            layers_config[0]['out_channels'],\n",
        "            num_classes,\n",
        "            kernel_size=1,\n",
        "        )\n",
        "\n",
        "    def forward(self, input_tensor):\n",
        "        encoder_feature_maps = []\n",
        "        x = input_tensor\n",
        "\n",
        "        for encoder_block, downsample in zip(self._encoder_blocks, self._downsampling_layers):\n",
        "            x = encoder_block(x)\n",
        "            encoder_feature_maps.append(x)\n",
        "            x = downsample(x)\n",
        "\n",
        "        x = self._bottleneck_block(x)\n",
        "\n",
        "        for index in range(len(self._upsampling_layers)):\n",
        "            x = self._upsampling_layers[index](x)\n",
        "            skip_connection = encoder_feature_maps[-(index + 1)]\n",
        "            x = self._decoder_blocks[index](torch.cat([x, skip_connection], dim=1))\n",
        "\n",
        "        return self._final_convolution(x)\n"
      ]
    },
    {
      "cell_type": "markdown",
      "metadata": {
        "id": "4UutN7gao30A"
      },
      "source": [
        "Попробуем обучить собственную имплементацию сверточной модели на бейзлайне"
      ]
    },
    {
      "cell_type": "code",
      "execution_count": 6,
      "metadata": {
        "colab": {
          "base_uri": "https://localhost:8080/"
        },
        "execution": {
          "iopub.execute_input": "2025-04-22T22:07:58.905306Z",
          "iopub.status.busy": "2025-04-22T22:07:58.904681Z",
          "iopub.status.idle": "2025-04-22T22:07:58.910477Z",
          "shell.execute_reply": "2025-04-22T22:07:58.909807Z",
          "shell.execute_reply.started": "2025-04-22T22:07:58.905279Z"
        },
        "id": "Qpl8ON2d5d7P",
        "outputId": "f657b816-26cf-454d-ea4c-4b0a6da3b262",
        "trusted": true
      },
      "outputs": [
        {
          "name": "stdout",
          "output_type": "stream",
          "text": [
            "Step [129 / 129], loss=2.627028914718332\n",
            "Eval results: iou:0.07498\n",
            "Step [129 / 129], loss=1.88083767602008\n",
            "Eval results: iou:0.1852\n",
            "Step [129 / 129], loss=1.8235164939114843\n",
            "Eval results: iou:0.2034\n"
          ]
        }
      ],
      "source": [
        "train_ds = SegmentationDataset(train_dataset, categories)\n",
        "val_ds = SegmentationDataset(val_dataset, categories)\n",
        "\n",
        "train_loader = torch.utils.data.DataLoader(train_ds, batch_size=16, shuffle=False, num_workers=2)\n",
        "val_loader = torch.utils.data.DataLoader(val_ds, batch_size=16, shuffle=False, num_workers=2)\n",
        "\n",
        "config = [\n",
        "    {'in_channels': 3, 'out_channels': 64},\n",
        "    {'in_channels': 64, 'out_channels': 128},\n",
        "]\n",
        "model = UNetImplementation(config, num_classes=len(categories)).to(DEVICE)\n",
        "\n",
        "for _ in range(3):\n",
        "    train_logs = train_model(\n",
        "        model,\n",
        "        train_loader,\n",
        "        torch.nn.CrossEntropyLoss(ignore_index=categories['<BACKGROUND>']),\n",
        "        torch.optim.Adam(model.parameters(), lr=1e-3),\n",
        "    )\n",
        "\n",
        "    for log in train_logs:\n",
        "        print(\n",
        "            '\\rStep [{step} / {steps_amount}], loss={loss}'.format(\n",
        "                step=log['step'],\n",
        "                steps_amount=len(train_loader),\n",
        "                loss=log['loss'],\n",
        "            ),\n",
        "            end='',\n",
        "        )\n",
        "\n",
        "    print()\n",
        "\n",
        "    results = eval_model(model, val_loader, metrics)\n",
        "    print('Eval results: {}'.format(\n",
        "        ', '.join(f\"{name}:{value:.4f}\" for name, value in results.items())\n",
        "    ))"
      ]
    },
    {
      "cell_type": "markdown",
      "metadata": {
        "id": "xwbwciiIpyWo"
      },
      "source": [
        "Теперь, попробуем обучить собственную имплементацию сверточной модели на улучшенном бейзлайне"
      ]
    },
    {
      "cell_type": "code",
      "execution_count": 7,
      "metadata": {
        "colab": {
          "base_uri": "https://localhost:8080/"
        },
        "execution": {
          "iopub.execute_input": "2025-04-22T22:57:38.746362Z",
          "iopub.status.busy": "2025-04-22T22:57:38.745561Z",
          "iopub.status.idle": "2025-04-22T22:57:38.751586Z",
          "shell.execute_reply": "2025-04-22T22:57:38.750798Z",
          "shell.execute_reply.started": "2025-04-22T22:57:38.746334Z"
        },
        "id": "QHbKBKoP5d7Q",
        "outputId": "7bbd3f79-2739-411e-b64c-dfd8c0dbda93",
        "trusted": true
      },
      "outputs": [
        {
          "name": "stdout",
          "output_type": "stream",
          "text": [
            "Step [129 / 129], loss=2.2212896180626727\n",
            "Eval results: iou:0.1479\n",
            "Step [129 / 129], loss=1.987437465615025\n",
            "Eval results: iou:0.2144\n",
            "Step [129 / 129], loss=1.9555296294618683\n",
            "Eval results: iou:0.2162\n",
            "Step [129 / 129], loss=1.842172718001868\n",
            "Eval results: iou:0.2098\n",
            "Step [129 / 129], loss=1.732879776152603\n",
            "Eval results: iou:0.2157\n"
          ]
        }
      ],
      "source": [
        "train_ds = SegmentationDataset(train_dataset, categories, transform=transform)\n",
        "val_ds = SegmentationDataset(val_dataset, categories, transform=crop_image)\n",
        "\n",
        "train_loader = torch.utils.data.DataLoader(train_ds, batch_size=16, shuffle=False, num_workers=2)\n",
        "val_loader = torch.utils.data.DataLoader(val_ds, batch_size=16, shuffle=False, num_workers=2)\n",
        "\n",
        "model = UNetImplementation(config, num_classes=len(categories)).to(DEVICE)\n",
        "\n",
        "for _ in range(5):\n",
        "    train_logs = train_model(\n",
        "        model,\n",
        "        train_loader,\n",
        "        torch.nn.CrossEntropyLoss(ignore_index=categories['<BACKGROUND>']),\n",
        "        torch.optim.Adam(model.parameters(), lr=1e-3),\n",
        "    )\n",
        "\n",
        "    for log in train_logs:\n",
        "        print(\n",
        "            '\\rStep [{step} / {steps_amount}], loss={loss}'.format(\n",
        "                step=log['step'],\n",
        "                steps_amount=len(train_loader),\n",
        "                loss=log['loss'],\n",
        "            ),\n",
        "            end='',\n",
        "        )\n",
        "\n",
        "    print()\n",
        "\n",
        "    results = eval_model(model, val_loader, metrics)\n",
        "    print('Eval results: {}'.format(\n",
        "        ', '.join(f\"{name}:{value:.4f}\" for name, value in results.items())\n",
        "    ))"
      ]
    },
    {
      "cell_type": "code",
      "execution_count": null,
      "metadata": {
        "execution": {
          "iopub.execute_input": "2025-04-22T22:14:19.214743Z",
          "iopub.status.busy": "2025-04-22T22:14:19.214485Z",
          "iopub.status.idle": "2025-04-22T22:14:19.722320Z",
          "shell.execute_reply": "2025-04-22T22:14:19.721614Z",
          "shell.execute_reply.started": "2025-04-22T22:14:19.214729Z"
        },
        "id": "No2U3u6c5d7Q",
        "outputId": "fc3aa987-88ba-48d4-d1b3-81344bb65db6",
        "trusted": true
      },
      "outputs": [
        {
          "data": {
            "image/png": "[encoded data removed]",
            "text/plain": [
              "<Figure size 1200x600 with 2 Axes>"
            ]
          },
          "metadata": {},
          "output_type": "display_data"
        }
      ],
      "source": [
        "test_model(model, *train_ds[13], categories[train_dataset[13]['category']])"
      ]
    },
    {
      "cell_type": "markdown",
      "metadata": {
        "id": "kkoF63N2raA4"
      },
      "source": [
        "Как видно, модель показала относительно хуже результаты на бейзлайне по сравнению с моделью U-Net. Использование улучшенного бейзлайна не дало особых результатов.\n",
        "\n",
        "Возможной причиной может послужить то, что модель UNet уже была обучена на богатом датасете. Как следствие, она содержит богатые и универсальные признаки, по сравнению с собственной имплементацией, которая обучалась с нуля.\n",
        "\n",
        "Также возможной причиной может послужить то, что собственная имплементация не такая глубокая и не имеет такую сложную архитектуру, как модель UNet."
      ]
    },
    {
      "cell_type": "markdown",
      "metadata": {
        "id": "WDy8iX6A5d7Q"
      },
      "source": [
        "### Трансформерная модель"
      ]
    },
    {
      "cell_type": "markdown",
      "metadata": {
        "id": "qujBPX9TsoZq"
      },
      "source": [
        "Перейдем теперь к собственной имплементации трансформерной модели. Так как и здесь, описание трансформерной модели для решения задачи семантической сегментации значительно сложнее по сравнению с задачей классификации, то в этот раз опишем модели в виде классов.\n",
        "\n",
        "Модель декомпозирована на основные компоненты:\n",
        "- `PatchEmbedding` - данный компонент разбивает входное изображение на патчи фиксированного размера и проектирует их в векторное пространство заданной размерности с помощью свертки.\n",
        "- `TransformerEncoderBlock` - представляет собой набор блоков энкодера. Каждый блок энкодера содержит:\n",
        "  - **Layer Normalization** - нормализация входа.\n",
        "  - **Multi-Head Attention** - применяется внимание, позволяющее учитывать зависимости между всеми патчами изображения.\n",
        "  - **MLP-блок** - состоит из двух полносвязных слоев с функцией активации GELU и дропаутом.\n",
        "  - Используется **резидуальное соединение** после каждого подблока для стабилизации градиентов.\n",
        "- `TransformerSegmentationModel` - собирает все компоненты в одно целое."
      ]
    },
    {
      "cell_type": "code",
      "execution_count": null,
      "metadata": {
        "execution": {
          "iopub.execute_input": "2025-04-22T22:38:24.878614Z",
          "iopub.status.busy": "2025-04-22T22:38:24.877741Z",
          "iopub.status.idle": "2025-04-22T22:38:24.888235Z",
          "shell.execute_reply": "2025-04-22T22:38:24.887581Z",
          "shell.execute_reply.started": "2025-04-22T22:38:24.878587Z"
        },
        "id": "msLh_kuV5d7R",
        "trusted": true
      },
      "outputs": [],
      "source": [
        "class PatchEmbedding(torch.nn.Module):\n",
        "    def __init__(self, in_channels=3, patch_size=16, emb_dim=256):\n",
        "        super().__init__()\n",
        "        self.patch_size = patch_size\n",
        "        self.projection = torch.nn.Conv2d(\n",
        "            in_channels,\n",
        "            emb_dim,\n",
        "            kernel_size=patch_size,\n",
        "            stride=patch_size,\n",
        "        )\n",
        "\n",
        "    def forward(self, x):\n",
        "        x = self.projection(x)\n",
        "        batch_size, channels, height, width = x.shape\n",
        "        x = x.flatten(2).transpose(1, 2)\n",
        "\n",
        "        return x\n",
        "\n",
        "\n",
        "class TransformerEncoderBlock(torch.nn.Module):\n",
        "    def __init__(self, emb_dim=256, num_heads=8, mlp_ratio=4.0, dropout=0.1):\n",
        "        super().__init__()\n",
        "\n",
        "        self.layer_norms = torch.nn.ModuleList([\n",
        "            torch.nn.LayerNorm(emb_dim),\n",
        "            torch.nn.LayerNorm(emb_dim)\n",
        "        ])\n",
        "\n",
        "        self.attention = torch.nn.MultiheadAttention(\n",
        "            emb_dim,\n",
        "            num_heads,\n",
        "            dropout=dropout,\n",
        "            batch_first=True,\n",
        "        )\n",
        "\n",
        "        hidden_dim = int(emb_dim * mlp_ratio)\n",
        "\n",
        "        self.mlp = torch.nn.Sequential(\n",
        "            torch.nn.Linear(emb_dim, hidden_dim),\n",
        "            torch.nn.GELU(),\n",
        "            torch.nn.Linear(hidden_dim, emb_dim),\n",
        "            torch.nn.Dropout(dropout)\n",
        "        )\n",
        "\n",
        "    def forward(self, x):\n",
        "        x = x + self.attention(self.layer_norms[0](x), x, x)[0]\n",
        "        x = x + self.mlp(self.layer_norms[1](x))\n",
        "\n",
        "        return x\n",
        "\n",
        "\n",
        "class TransformerSegmentationModel(torch.nn.Module):\n",
        "    def __init__(\n",
        "        self,\n",
        "        in_channels=3,\n",
        "        num_classes=1,\n",
        "        patch_size=16,\n",
        "        emb_dim=256,\n",
        "        depth=6,\n",
        "        num_heads=8,\n",
        "    ):\n",
        "        super().__init__()\n",
        "\n",
        "        self.patch_embed = PatchEmbedding(in_channels, patch_size, emb_dim)\n",
        "\n",
        "        self.blocks = torch.nn.ModuleList([\n",
        "            TransformerEncoderBlock(emb_dim, num_heads)\n",
        "            for _ in range(depth)\n",
        "        ])\n",
        "\n",
        "        num_patches = (224 // patch_size) ** 2\n",
        "        self.position_embedding = torch.nn.Parameter(\n",
        "            torch.zeros(1, num_patches, emb_dim)\n",
        "        )\n",
        "\n",
        "        self.reconstruction = torch.nn.ConvTranspose2d(\n",
        "            emb_dim,\n",
        "            num_classes,\n",
        "            kernel_size=patch_size,\n",
        "            stride=patch_size,\n",
        "        )\n",
        "\n",
        "    def forward(self, x):\n",
        "        batch_size = x.size(0)\n",
        "        x = self.patch_embed(x)\n",
        "        x = x + self.position_embedding\n",
        "\n",
        "        for block in self.blocks:\n",
        "            x = block(x)\n",
        "\n",
        "        spatial_dim = int((x.size(1)) ** 0.5)\n",
        "        x = x.transpose(1, 2).reshape(batch_size, -1, spatial_dim, spatial_dim)\n",
        "        x = self.reconstruction(x)\n",
        "\n",
        "        return x"
      ]
    },
    {
      "cell_type": "markdown",
      "metadata": {
        "id": "Ryek9NDdtXNT"
      },
      "source": [
        "Попробуем обучить собственную имплементацию трансформерной модели на бейзлайне"
      ]
    },
    {
      "cell_type": "code",
      "execution_count": 8,
      "metadata": {
        "colab": {
          "base_uri": "https://localhost:8080/"
        },
        "execution": {
          "iopub.execute_input": "2025-04-22T22:37:30.318325Z",
          "iopub.status.busy": "2025-04-22T22:37:30.317707Z",
          "iopub.status.idle": "2025-04-22T22:37:30.323041Z",
          "shell.execute_reply": "2025-04-22T22:37:30.322320Z",
          "shell.execute_reply.started": "2025-04-22T22:37:30.318302Z"
        },
        "id": "FzYsYzuF5d7R",
        "outputId": "acf09f27-ae7a-42a3-c4e3-dcc95d69d419",
        "trusted": true
      },
      "outputs": [
        {
          "name": "stdout",
          "output_type": "stream",
          "text": [
            "Step [129 / 129], loss=3.104461310502689\n",
            "Eval results: iou:0.1175\n",
            "Step [129 / 129], loss=2.778125865518382\n",
            "Eval results: iou:0.1523\n",
            "Step [129 / 129], loss=2.571135988549821\n",
            "Eval results: iou:0.1532\n"
          ]
        }
      ],
      "source": [
        "train_ds = SegmentationDataset(train_dataset, categories)\n",
        "val_ds = SegmentationDataset(val_dataset, categories)\n",
        "\n",
        "train_loader = torch.utils.data.DataLoader(train_ds, batch_size=16, shuffle=False, num_workers=2)\n",
        "val_loader = torch.utils.data.DataLoader(val_ds, batch_size=16, shuffle=False, num_workers=2)\n",
        "\n",
        "model = TransformerSegmentationModel(num_classes=len(categories)).to(DEVICE)\n",
        "\n",
        "for _ in range(3):\n",
        "    train_logs = train_model(\n",
        "        model,\n",
        "        train_loader,\n",
        "        torch.nn.CrossEntropyLoss(ignore_index=categories['<BACKGROUND>']),\n",
        "        torch.optim.Adam(model.parameters(), lr=1e-3),\n",
        "    )\n",
        "\n",
        "    for log in train_logs:\n",
        "        print(\n",
        "            '\\rStep [{step} / {steps_amount}], loss={loss}'.format(\n",
        "                step=log['step'],\n",
        "                steps_amount=len(train_loader),\n",
        "                loss=log['loss'],\n",
        "            ),\n",
        "            end='',\n",
        "        )\n",
        "\n",
        "    print()\n",
        "\n",
        "    results = eval_model(model, val_loader, metrics)\n",
        "    print('Eval results: {}'.format(\n",
        "        ', '.join(f\"{name}:{value:.4f}\" for name, value in results.items())\n",
        "    ))"
      ]
    },
    {
      "cell_type": "markdown",
      "metadata": {
        "id": "Xtps7O5Htzvh"
      },
      "source": [
        "Теперь, попробуем обучить модель на улучшенном бейзлайне"
      ]
    },
    {
      "cell_type": "code",
      "execution_count": 9,
      "metadata": {
        "colab": {
          "base_uri": "https://localhost:8080/"
        },
        "execution": {
          "iopub.execute_input": "2025-04-22T22:39:12.007582Z",
          "iopub.status.busy": "2025-04-22T22:39:12.007284Z",
          "iopub.status.idle": "2025-04-22T22:52:27.447774Z",
          "shell.execute_reply": "2025-04-22T22:52:27.446977Z",
          "shell.execute_reply.started": "2025-04-22T22:39:12.007561Z"
        },
        "id": "E01ua0oX5d7R",
        "outputId": "161a4830-fab2-421e-a772-815dcacaf173",
        "trusted": true
      },
      "outputs": [
        {
          "name": "stdout",
          "output_type": "stream",
          "text": [
            "Step [129 / 129], loss=2.7733983004306974\n",
            "Eval results: iou:0.1589\n",
            "Step [129 / 129], loss=2.5675599944631975\n",
            "Eval results: iou:0.1774\n",
            "Step [129 / 129], loss=2.3248669642819634\n",
            "Eval results: iou:0.1777\n",
            "Step [129 / 129], loss=2.1390886529810613\n",
            "Eval results: iou:0.1783\n",
            "Step [129 / 129], loss=1.7558953872076008\n",
            "Eval results: iou:0.2078\n"
          ]
        }
      ],
      "source": [
        "train_ds = SegmentationDataset(train_dataset, categories, transform=transform)\n",
        "val_ds = SegmentationDataset(val_dataset, categories, transform=crop_image)\n",
        "\n",
        "train_loader = torch.utils.data.DataLoader(train_ds, batch_size=16, shuffle=False, num_workers=2)\n",
        "val_loader = torch.utils.data.DataLoader(val_ds, batch_size=16, shuffle=False, num_workers=2)\n",
        "\n",
        "model = TransformerSegmentationModel(num_classes=len(categories)).to(DEVICE)\n",
        "\n",
        "for _ in range(5):\n",
        "    train_logs = train_model(\n",
        "        model,\n",
        "        train_loader,\n",
        "        torch.nn.CrossEntropyLoss(ignore_index=categories['<BACKGROUND>']),\n",
        "        torch.optim.Adam(model.parameters(), lr=1e-3),\n",
        "    )\n",
        "\n",
        "    for log in train_logs:\n",
        "        print(\n",
        "            '\\rStep [{step} / {steps_amount}], loss={loss}'.format(\n",
        "                step=log['step'],\n",
        "                steps_amount=len(train_loader),\n",
        "                loss=log['loss'],\n",
        "            ),\n",
        "            end='',\n",
        "        )\n",
        "\n",
        "    print()\n",
        "\n",
        "    results = eval_model(model, val_loader, metrics)\n",
        "    print('Eval results: {}'.format(\n",
        "        ', '.join(f\"{name}:{value:.4f}\" for name, value in results.items())\n",
        "    ))"
      ]
    },
    {
      "cell_type": "code",
      "execution_count": null,
      "metadata": {
        "execution": {
          "iopub.execute_input": "2025-04-22T22:35:39.061546Z",
          "iopub.status.busy": "2025-04-22T22:35:39.060946Z",
          "iopub.status.idle": "2025-04-22T22:35:39.624311Z",
          "shell.execute_reply": "2025-04-22T22:35:39.623645Z",
          "shell.execute_reply.started": "2025-04-22T22:35:39.061525Z"
        },
        "id": "nro27t7v5d7S",
        "outputId": "b8fd247c-928d-4365-e593-38f8104803c5",
        "trusted": true
      },
      "outputs": [
        {
          "data": {
            "image/png": "[encoded data removed]",
            "text/plain": [
              "<Figure size 1200x600 with 2 Axes>"
            ]
          },
          "metadata": {},
          "output_type": "display_data"
        }
      ],
      "source": [
        "test_model(model, *val_ds[57], categories[val_dataset[57]['category']])"
      ]
    },
    {
      "cell_type": "markdown",
      "metadata": {
        "id": "vp1lDf2kuSOa"
      },
      "source": [
        "Результаты эксперимента демонстрируют, что собственная реализация модели уступает предобученной Segformer. Это, вероятно, объясняется двумя факторами:\n",
        "\n",
        "- Упрощенная архитектура — наша модель имеет меньше слоев и механизмов внимания по сравнению с Segformer.\n",
        "\n",
        "- Отсутствие предобучения — в отличие от Segformer, наша реализация обучалась «с нуля» на ограниченных данных.\n",
        "\n",
        "Однако использование улучшенного бейзлайна оказало значительного положительное влияние, по сравнению с предобученной моделью. Результаты метрик стали намного лучше результатов обычного бейзлайна."
      ]
    }
  ],
  "metadata": {
    "colab": {
      "provenance": [],
      "toc_visible": true
    },
    "kaggle": {
      "accelerator": "nvidiaTeslaT4",
      "dataSources": [],
      "dockerImageVersionId": 31011,
      "isGpuEnabled": true,
      "isInternetEnabled": true,
      "language": "python",
      "sourceType": "notebook"
    },
    "kernelspec": {
      "display_name": "Python 3",
      "language": "python",
      "name": "python3"
    },
    "language_info": {
      "codemirror_mode": {
        "name": "ipython",
        "version": 3
      },
      "file_extension": ".py",
      "mimetype": "text/x-python",
      "name": "python",
      "nbconvert_exporter": "python",
      "pygments_lexer": "ipython3",
      "version": "3.11.11"
    }
  },
  "nbformat": 4,
  "nbformat_minor": 0
}
